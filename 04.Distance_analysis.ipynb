{
 "cells": [
  {
   "cell_type": "markdown",
   "id": "73814f69",
   "metadata": {},
   "source": [
    "# Imports\n"
   ]
  },
  {
   "cell_type": "code",
   "execution_count": 1,
   "id": "a993f7bc",
   "metadata": {},
   "outputs": [],
   "source": [
    "import numpy as np\n",
    "import pandas as pd \n",
    "\n",
    "import matplotlib.pyplot as plt\n",
    "import seaborn as sns\n",
    "\n",
    "import pickle\n",
    "import joblib\n",
    "import random\n",
    "import sys\n",
    "import os\n",
    "import re\n",
    "\n",
    "from rapidfuzz import fuzz\n",
    "from rapidfuzz.distance import Levenshtein\n",
    "import unicodedata\n",
    "\n",
    "from ann_levenshtein import LevenshteinIndex"
   ]
  },
  {
   "cell_type": "markdown",
   "id": "f7038f28",
   "metadata": {},
   "source": [
    "# Data\n"
   ]
  },
  {
   "cell_type": "markdown",
   "id": "fa957bcb",
   "metadata": {},
   "source": [
    "### Random Strings\n"
   ]
  },
  {
   "cell_type": "code",
   "execution_count": 661,
   "id": "51dc8f69",
   "metadata": {},
   "outputs": [],
   "source": [
    "strings = [\n",
    "    \"AAA\", \"AAB\", \"AAC\", \"ABA\", \n",
    "    \"ABB\", \"ABC\", \"ACA\", \"ACB\",\n",
    "    \"ACC\", \"BAA\", \"BAB\", \"BAC\", \n",
    "    \"BBA\", \"BBB\", \"BBC\", \"BCA\",\n",
    "    \"BCB\", \"BCC\", \"CAA\", \"CAB\", \n",
    "    \"CAC\", \"CBA\", \"CBB\", \"CBC\",\n",
    "    \"CCA\", \"CCB\", \"CCC\", \"ABCA\", \n",
    "    \"BABC\", \"CABA\", \"ACBC\",\"CBAC\"\n",
    "]"
   ]
  },
  {
   "cell_type": "code",
   "execution_count": 690,
   "id": "239df98e",
   "metadata": {},
   "outputs": [
    {
     "data": {
      "text/plain": [
       "['CAA']"
      ]
     },
     "execution_count": 690,
     "metadata": {},
     "output_type": "execute_result"
    }
   ],
   "source": [
    "indices = [18]\n",
    "selected = [strings[i] for i in indices]\n",
    "selected\n"
   ]
  },
  {
   "cell_type": "markdown",
   "id": "eb179cc2",
   "metadata": {},
   "source": [
    "### function\n"
   ]
  },
  {
   "cell_type": "code",
   "execution_count": null,
   "id": "fa5b9261",
   "metadata": {},
   "outputs": [],
   "source": [
    "def Levenshtein_dist_vector(s1, s2):\n",
    "        insertions, deletions, substitutions = 0, 0, 0\n",
    "        for tag, _, _ in Levenshtein.editops(s1, s2):\n",
    "            if tag == 'insert':\n",
    "                insertions += 1\n",
    "            elif tag == 'delete':\n",
    "                deletions += 1\n",
    "            elif tag == 'replace':\n",
    "                substitutions += 1\n",
    "        return (insertions, deletions, substitutions)"
   ]
  },
  {
   "cell_type": "markdown",
   "id": "de5d3cfa",
   "metadata": {},
   "source": [
    "# Build tree\n"
   ]
  },
  {
   "cell_type": "markdown",
   "id": "8b6cfd12",
   "metadata": {},
   "source": [
    "### Initialize\n"
   ]
  },
  {
   "cell_type": "code",
   "execution_count": 1512,
   "id": "5aed73e0",
   "metadata": {},
   "outputs": [],
   "source": [
    "np.random.seed(0)\n",
    "indices = np.arange(len(strings))"
   ]
  },
  {
   "cell_type": "code",
   "execution_count": 1513,
   "id": "f8a56104",
   "metadata": {},
   "outputs": [],
   "source": [
    "# Initialize\n",
    "estimated_nodes = 8 * len(strings) + 8\n",
    "\n",
    "tree_s1 = np.full(shape=estimated_nodes, fill_value=-1, dtype=np.int32)\n",
    "tree_s2 = np.full(shape=estimated_nodes, fill_value=-1, dtype=np.int32)\n",
    "\n",
    "tree_ppp = np.full(shape=estimated_nodes, fill_value=-1, dtype=np.int32)\n",
    "tree_ppm = np.full(shape=estimated_nodes, fill_value=-1, dtype=np.int32)\n",
    "tree_pmp = np.full(shape=estimated_nodes, fill_value=-1, dtype=np.int32)\n",
    "tree_pmm = np.full(shape=estimated_nodes, fill_value=-1, dtype=np.int32)\n",
    "tree_mpp = np.full(shape=estimated_nodes, fill_value=-1, dtype=np.int32)\n",
    "tree_mpm = np.full(shape=estimated_nodes, fill_value=-1, dtype=np.int32)\n",
    "tree_mmp = np.full(shape=estimated_nodes, fill_value=-1, dtype=np.int32)\n",
    "tree_mmm = np.full(shape=estimated_nodes, fill_value=-1, dtype=np.int32)\n",
    "leaf_value = np.full(shape=estimated_nodes, fill_value=-1, dtype=np.int32)"
   ]
  },
  {
   "cell_type": "code",
   "execution_count": 1514,
   "id": "a840c7e3",
   "metadata": {},
   "outputs": [
    {
     "data": {
      "text/plain": [
       "array([-1, -1, -1, -1, -1, -1, -1, -1, -1, -1, -1, -1, -1, -1, -1, -1, -1,\n",
       "       -1, -1, -1, -1, -1, -1, -1, -1, -1, -1, -1, -1, -1, -1, -1, -1, -1,\n",
       "       -1, -1, -1, -1, -1, -1, -1, -1, -1, -1, -1, -1, -1, -1, -1, -1, -1,\n",
       "       -1, -1, -1, -1, -1, -1, -1, -1, -1, -1, -1, -1, -1, -1, -1, -1, -1,\n",
       "       -1, -1, -1, -1, -1, -1, -1, -1, -1, -1, -1, -1, -1, -1, -1, -1, -1,\n",
       "       -1, -1, -1, -1, -1, -1, -1, -1, -1, -1, -1, -1, -1, -1, -1, -1, -1,\n",
       "       -1, -1, -1, -1, -1, -1, -1, -1, -1, -1, -1, -1, -1, -1, -1, -1, -1,\n",
       "       -1, -1, -1, -1, -1, -1, -1, -1, -1, -1, -1, -1, -1, -1, -1, -1, -1,\n",
       "       -1, -1, -1, -1, -1, -1, -1, -1, -1, -1, -1, -1, -1, -1, -1, -1, -1,\n",
       "       -1, -1, -1, -1, -1, -1, -1, -1, -1, -1, -1, -1, -1, -1, -1, -1, -1,\n",
       "       -1, -1, -1, -1, -1, -1, -1, -1, -1, -1, -1, -1, -1, -1, -1, -1, -1,\n",
       "       -1, -1, -1, -1, -1, -1, -1, -1, -1, -1, -1, -1, -1, -1, -1, -1, -1,\n",
       "       -1, -1, -1, -1, -1, -1, -1, -1, -1, -1, -1, -1, -1, -1, -1, -1, -1,\n",
       "       -1, -1, -1, -1, -1, -1, -1, -1, -1, -1, -1, -1, -1, -1, -1, -1, -1,\n",
       "       -1, -1, -1, -1, -1, -1, -1, -1, -1, -1, -1, -1, -1, -1, -1, -1, -1,\n",
       "       -1, -1, -1, -1, -1, -1, -1, -1, -1], dtype=int32)"
      ]
     },
     "execution_count": 1514,
     "metadata": {},
     "output_type": "execute_result"
    }
   ],
   "source": [
    "tree_s1"
   ]
  },
  {
   "cell_type": "code",
   "execution_count": 1515,
   "id": "09c46e0a",
   "metadata": {},
   "outputs": [],
   "source": [
    "# queue\n",
    "queue = [(0, np.arange(len(strings)))]  # (idx, indices)\n",
    "node_counter = 1\n"
   ]
  },
  {
   "cell_type": "code",
   "execution_count": 1516,
   "id": "eb33c325",
   "metadata": {},
   "outputs": [
    {
     "data": {
      "text/plain": [
       "[(0,\n",
       "  array([ 0,  1,  2,  3,  4,  5,  6,  7,  8,  9, 10, 11, 12, 13, 14, 15, 16,\n",
       "         17, 18, 19, 20, 21, 22, 23, 24, 25, 26, 27, 28, 29, 30, 31]))]"
      ]
     },
     "execution_count": 1516,
     "metadata": {},
     "output_type": "execute_result"
    }
   ],
   "source": [
    "queue"
   ]
  },
  {
   "cell_type": "markdown",
   "id": "c3749dbf",
   "metadata": {},
   "source": [
    "### node 0\n"
   ]
  },
  {
   "cell_type": "code",
   "execution_count": 1517,
   "id": "bce0a4be",
   "metadata": {},
   "outputs": [],
   "source": [
    "current_node_id, indices = queue.pop(0)"
   ]
  },
  {
   "cell_type": "code",
   "execution_count": 1518,
   "id": "bc31bce0",
   "metadata": {},
   "outputs": [
    {
     "name": "stdout",
     "output_type": "stream",
     "text": [
      "0 [ 0  1  2  3  4  5  6  7  8  9 10 11 12 13 14 15 16 17 18 19 20 21 22 23\n",
      " 24 25 26 27 28 29 30 31]\n"
     ]
    }
   ],
   "source": [
    "print(current_node_id, indices)"
   ]
  },
  {
   "cell_type": "code",
   "execution_count": 1519,
   "id": "99c3cf89",
   "metadata": {},
   "outputs": [],
   "source": [
    "np.random.seed(0)\n",
    "s1_idx, s2_idx = np.random.choice(indices, 2, replace=False)\n",
    "s1, s2 = strings[s1_idx], strings[s2_idx]"
   ]
  },
  {
   "cell_type": "code",
   "execution_count": 1520,
   "id": "1f1b8e4c",
   "metadata": {},
   "outputs": [
    {
     "name": "stdout",
     "output_type": "stream",
     "text": [
      "BAC CBB\n"
     ]
    }
   ],
   "source": [
    "print(s1, s2)"
   ]
  },
  {
   "cell_type": "code",
   "execution_count": 1521,
   "id": "e6c345be",
   "metadata": {},
   "outputs": [],
   "source": [
    "mask_ppp = np.full(len(indices), False, dtype=bool)\n",
    "mask_ppm = np.full(len(indices), False, dtype=bool)\n",
    "mask_pmp = np.full(len(indices), False, dtype=bool)\n",
    "mask_pmm = np.full(len(indices), False, dtype=bool)\n",
    "mask_mpp = np.full(len(indices), False, dtype=bool)\n",
    "mask_mpm = np.full(len(indices), False, dtype=bool)\n",
    "mask_mmp = np.full(len(indices), False, dtype=bool)\n",
    "mask_mmm = np.full(len(indices), False, dtype=bool)"
   ]
  },
  {
   "cell_type": "code",
   "execution_count": 1522,
   "id": "9698d630",
   "metadata": {},
   "outputs": [],
   "source": [
    "for j, idx in enumerate(indices):\n",
    "    each_string = strings[idx]\n",
    "    (a1, a2, a3) = Levenshtein_dist_vector(each_string, s1)\n",
    "    (b1, b2, b3) = Levenshtein_dist_vector(each_string, s2)\n",
    "    # split into 8 parts\n",
    "    if a1>=b1 and a2>=b2 and a3>=b3:  # +++\n",
    "        mask_ppp[j] = True  # go tree_ppp\n",
    "    elif a1>=b1 and a2>=b2 and a3<b3:  # ++-\n",
    "        mask_ppm[j] = True  # go tree_ppm\n",
    "    elif a1>=b1 and a2<b2 and a3>=b3:  # +-+\n",
    "        mask_pmp[j] = True  # go tree_pmp\n",
    "    elif a1>=b1 and a2<b2 and a3<b3:  # +--\n",
    "        mask_pmm[j] = True  # go tree_pmm\n",
    "    elif a1<b1 and a2>=b2 and a3>=b3:  # -++\n",
    "        mask_mpp[j] = True  # go tree_mpp\n",
    "    elif a1<b1 and a2>=b2 and a3<b3:  # -+-\n",
    "        mask_mpm[j] = True  # go tree_mpm\n",
    "    elif a1<b1 and a2<b2 and a3>=b3:  # --+\n",
    "        mask_mmp[j] = True  # go tree_mmp\n",
    "    else:  # ---\n",
    "        mask_mmm[j] = True  # go tree_mmm"
   ]
  },
  {
   "cell_type": "code",
   "execution_count": 1523,
   "id": "539cfe99",
   "metadata": {},
   "outputs": [],
   "source": [
    "indices_ppp = indices[mask_ppp]\n",
    "indices_ppm = indices[mask_ppm]\n",
    "indices_pmp = indices[mask_pmp]\n",
    "indices_pmm = indices[mask_pmm]\n",
    "indices_mpp = indices[mask_mpp]\n",
    "indices_mpm = indices[mask_mpm]\n",
    "indices_mmp = indices[mask_mmp]\n",
    "indices_mmm = indices[mask_mmm]"
   ]
  },
  {
   "cell_type": "code",
   "execution_count": 1524,
   "id": "1e7a7891",
   "metadata": {},
   "outputs": [],
   "source": [
    "eight_indices = [indices_ppp, indices_ppm, indices_pmp, indices_pmm, indices_mpp, indices_mpm, indices_mmp, indices_mmm]"
   ]
  },
  {
   "cell_type": "code",
   "execution_count": 1525,
   "id": "208f1035",
   "metadata": {},
   "outputs": [],
   "source": [
    "tree_s1[current_node_id] = s1_idx\n",
    "tree_s2[current_node_id] = s2_idx"
   ]
  },
  {
   "cell_type": "code",
   "execution_count": 1526,
   "id": "a798a660",
   "metadata": {},
   "outputs": [],
   "source": [
    "id_ppp = node_counter\n",
    "id_ppm = node_counter + 1\n",
    "id_pmp = node_counter + 2\n",
    "id_pmm = node_counter + 3\n",
    "id_mpp = node_counter + 4\n",
    "id_mpm = node_counter + 5\n",
    "id_mmp = node_counter + 6\n",
    "id_mmm = node_counter + 7\n",
    "node_counter += 8"
   ]
  },
  {
   "cell_type": "code",
   "execution_count": 1527,
   "id": "4d8646cc",
   "metadata": {},
   "outputs": [],
   "source": [
    "tree_ppp[current_node_id] = id_ppp\n",
    "tree_ppm[current_node_id] = id_ppm\n",
    "tree_pmp[current_node_id] = id_pmp\n",
    "tree_pmm[current_node_id] = id_pmm\n",
    "tree_mpp[current_node_id] = id_mpp\n",
    "tree_mpm[current_node_id] = id_mpm\n",
    "tree_mmp[current_node_id] = id_mmp\n",
    "tree_mmm[current_node_id] = id_mmm\n",
    "\n",
    "eight_ids = [id_ppp, id_ppm, id_pmp, id_pmm, id_mpp, id_mpm, id_mmp, id_mmm]\n",
    "# end as a leaf\n",
    "for indices, next_id in zip(eight_indices, eight_ids):\n",
    "    if len(indices) == 0:\n",
    "        pass\n",
    "\n",
    "    elif len(indices) == 1:\n",
    "        leaf_value[next_id] = indices[0]\n",
    "\n",
    "    else:\n",
    "        queue.append((next_id, indices))"
   ]
  },
  {
   "cell_type": "code",
   "execution_count": 1528,
   "id": "05d16c56",
   "metadata": {},
   "outputs": [
    {
     "name": "stdout",
     "output_type": "stream",
     "text": [
      "(1, array([ 1,  4, 13, 16, 18, 19, 22, 23, 25, 26, 29]))\n",
      "(2, array([ 0,  2,  3,  5,  6,  7,  8, 15, 20, 21, 24, 27, 30, 31]))\n",
      "(7, array([ 9, 10, 12, 14, 17, 28]))\n"
     ]
    }
   ],
   "source": [
    "for q in queue:\n",
    "    print(q)"
   ]
  },
  {
   "cell_type": "markdown",
   "id": "0dd93961",
   "metadata": {},
   "source": [
    "### until end\n"
   ]
  },
  {
   "cell_type": "code",
   "execution_count": 1529,
   "id": "c182f50b",
   "metadata": {},
   "outputs": [
    {
     "name": "stdout",
     "output_type": "stream",
     "text": [
      "current node: 1\n",
      "indices: [ 1  4 13 16 18 19 22 23 25 26 29]\n",
      "\n",
      "s1: CAA\n",
      "s2: CCC\n",
      "\n",
      "queue\n",
      "(2, array([ 0,  2,  3,  5,  6,  7,  8, 15, 20, 21, 24, 27, 30, 31]))\n",
      "(7, array([ 9, 10, 12, 14, 17, 28]))\n",
      "(9, array([13, 16, 22, 23, 25, 26]))\n",
      "(10, array([ 1,  4, 18, 19, 29]))\n",
      "current node: 2\n",
      "indices: [ 0  2  3  5  6  7  8 15 20 21 24 27 30 31]\n",
      "\n",
      "s1: CAC\n",
      "s2: ACC\n",
      "\n",
      "queue\n",
      "(7, array([ 9, 10, 12, 14, 17, 28]))\n",
      "(9, array([13, 16, 22, 23, 25, 26]))\n",
      "(10, array([ 1,  4, 18, 19, 29]))\n",
      "(17, array([ 0,  2,  8, 24, 30]))\n",
      "(18, array([ 3,  5,  6,  7, 15, 27]))\n",
      "(23, array([20, 21, 31]))\n",
      "current node: 7\n",
      "indices: [ 9 10 12 14 17 28]\n",
      "\n",
      "s1: BABC\n",
      "s2: BBA\n",
      "\n",
      "queue\n",
      "(9, array([13, 16, 22, 23, 25, 26]))\n",
      "(10, array([ 1,  4, 18, 19, 29]))\n",
      "(17, array([ 0,  2,  8, 24, 30]))\n",
      "(18, array([ 3,  5,  6,  7, 15, 27]))\n",
      "(23, array([20, 21, 31]))\n",
      "(25, array([ 9, 12]))\n",
      "(26, array([14, 17]))\n",
      "current node: 9\n",
      "indices: [13 16 22 23 25 26]\n",
      "\n",
      "s1: CCC\n",
      "s2: CBB\n",
      "\n",
      "queue\n",
      "(10, array([ 1,  4, 18, 19, 29]))\n",
      "(17, array([ 0,  2,  8, 24, 30]))\n",
      "(18, array([ 3,  5,  6,  7, 15, 27]))\n",
      "(23, array([20, 21, 31]))\n",
      "(25, array([ 9, 12]))\n",
      "(26, array([14, 17]))\n",
      "(33, array([13, 22, 23, 25]))\n",
      "current node: 10\n",
      "indices: [ 1  4 18 19 29]\n",
      "\n",
      "s1: CAA\n",
      "s2: AAB\n",
      "\n",
      "queue\n",
      "(17, array([ 0,  2,  8, 24, 30]))\n",
      "(18, array([ 3,  5,  6,  7, 15, 27]))\n",
      "(23, array([20, 21, 31]))\n",
      "(25, array([ 9, 12]))\n",
      "(26, array([14, 17]))\n",
      "(33, array([13, 22, 23, 25]))\n",
      "(41, array([ 1,  4, 19]))\n",
      "(42, array([18, 29]))\n",
      "current node: 17\n",
      "indices: [ 0  2  8 24 30]\n",
      "\n",
      "s1: ACC\n",
      "s2: AAA\n",
      "\n",
      "queue\n",
      "(18, array([ 3,  5,  6,  7, 15, 27]))\n",
      "(23, array([20, 21, 31]))\n",
      "(25, array([ 9, 12]))\n",
      "(26, array([14, 17]))\n",
      "(33, array([13, 22, 23, 25]))\n",
      "(41, array([ 1,  4, 19]))\n",
      "(42, array([18, 29]))\n",
      "(49, array([0, 2]))\n",
      "(50, array([ 8, 24, 30]))\n",
      "current node: 18\n",
      "indices: [ 3  5  6  7 15 27]\n",
      "\n",
      "s1: ABCA\n",
      "s2: ACA\n",
      "\n",
      "queue\n",
      "(23, array([20, 21, 31]))\n",
      "(25, array([ 9, 12]))\n",
      "(26, array([14, 17]))\n",
      "(33, array([13, 22, 23, 25]))\n",
      "(41, array([ 1,  4, 19]))\n",
      "(42, array([18, 29]))\n",
      "(49, array([0, 2]))\n",
      "(50, array([ 8, 24, 30]))\n",
      "(57, array([6, 7]))\n",
      "(58, array([ 3,  5, 15]))\n",
      "current node: 23\n",
      "indices: [20 21 31]\n",
      "\n",
      "s1: CBAC\n",
      "s2: CBA\n",
      "\n",
      "queue\n",
      "(25, array([ 9, 12]))\n",
      "(26, array([14, 17]))\n",
      "(33, array([13, 22, 23, 25]))\n",
      "(41, array([ 1,  4, 19]))\n",
      "(42, array([18, 29]))\n",
      "(49, array([0, 2]))\n",
      "(50, array([ 8, 24, 30]))\n",
      "(57, array([6, 7]))\n",
      "(58, array([ 3,  5, 15]))\n",
      "(67, array([20, 31]))\n",
      "current node: 25\n",
      "indices: [ 9 12]\n",
      "\n",
      "s1: BBA\n",
      "s2: BAA\n",
      "\n",
      "queue\n",
      "(26, array([14, 17]))\n",
      "(33, array([13, 22, 23, 25]))\n",
      "(41, array([ 1,  4, 19]))\n",
      "(42, array([18, 29]))\n",
      "(49, array([0, 2]))\n",
      "(50, array([ 8, 24, 30]))\n",
      "(57, array([6, 7]))\n",
      "(58, array([ 3,  5, 15]))\n",
      "(67, array([20, 31]))\n",
      "current node: 26\n",
      "indices: [14 17]\n",
      "\n",
      "s1: BCC\n",
      "s2: BBC\n",
      "\n",
      "queue\n",
      "(33, array([13, 22, 23, 25]))\n",
      "(41, array([ 1,  4, 19]))\n",
      "(42, array([18, 29]))\n",
      "(49, array([0, 2]))\n",
      "(50, array([ 8, 24, 30]))\n",
      "(57, array([6, 7]))\n",
      "(58, array([ 3,  5, 15]))\n",
      "(67, array([20, 31]))\n",
      "current node: 33\n",
      "indices: [13 22 23 25]\n",
      "\n",
      "s1: CBC\n",
      "s2: CCB\n",
      "\n",
      "queue\n",
      "(41, array([ 1,  4, 19]))\n",
      "(42, array([18, 29]))\n",
      "(49, array([0, 2]))\n",
      "(50, array([ 8, 24, 30]))\n",
      "(57, array([6, 7]))\n",
      "(58, array([ 3,  5, 15]))\n",
      "(67, array([20, 31]))\n",
      "(89, array([13, 22, 25]))\n",
      "current node: 41\n",
      "indices: [ 1  4 19]\n",
      "\n",
      "s1: CAB\n",
      "s2: ABB\n",
      "\n",
      "queue\n",
      "(42, array([18, 29]))\n",
      "(49, array([0, 2]))\n",
      "(50, array([ 8, 24, 30]))\n",
      "(57, array([6, 7]))\n",
      "(58, array([ 3,  5, 15]))\n",
      "(67, array([20, 31]))\n",
      "(89, array([13, 22, 25]))\n",
      "(97, array([1, 4]))\n",
      "current node: 42\n",
      "indices: [18 29]\n",
      "\n",
      "s1: CABA\n",
      "s2: CAA\n",
      "\n",
      "queue\n",
      "(49, array([0, 2]))\n",
      "(50, array([ 8, 24, 30]))\n",
      "(57, array([6, 7]))\n",
      "(58, array([ 3,  5, 15]))\n",
      "(67, array([20, 31]))\n",
      "(89, array([13, 22, 25]))\n",
      "(97, array([1, 4]))\n",
      "current node: 49\n",
      "indices: [0 2]\n",
      "\n",
      "s1: AAC\n",
      "s2: AAA\n",
      "\n",
      "queue\n",
      "(50, array([ 8, 24, 30]))\n",
      "(57, array([6, 7]))\n",
      "(58, array([ 3,  5, 15]))\n",
      "(67, array([20, 31]))\n",
      "(89, array([13, 22, 25]))\n",
      "(97, array([1, 4]))\n",
      "current node: 50\n",
      "indices: [ 8 24 30]\n",
      "\n",
      "s1: ACBC\n",
      "s2: CCA\n",
      "\n",
      "queue\n",
      "(57, array([6, 7]))\n",
      "(58, array([ 3,  5, 15]))\n",
      "(67, array([20, 31]))\n",
      "(89, array([13, 22, 25]))\n",
      "(97, array([1, 4]))\n",
      "current node: 57\n",
      "indices: [6 7]\n",
      "\n",
      "s1: ACB\n",
      "s2: ACA\n",
      "\n",
      "queue\n",
      "(58, array([ 3,  5, 15]))\n",
      "(67, array([20, 31]))\n",
      "(89, array([13, 22, 25]))\n",
      "(97, array([1, 4]))\n",
      "current node: 58\n",
      "indices: [ 3  5 15]\n",
      "\n",
      "s1: BCA\n",
      "s2: ABC\n",
      "\n",
      "queue\n",
      "(67, array([20, 31]))\n",
      "(89, array([13, 22, 25]))\n",
      "(97, array([1, 4]))\n",
      "(137, array([3, 5]))\n",
      "current node: 67\n",
      "indices: [20 31]\n",
      "\n",
      "s1: CBAC\n",
      "s2: CAC\n",
      "\n",
      "queue\n",
      "(89, array([13, 22, 25]))\n",
      "(97, array([1, 4]))\n",
      "(137, array([3, 5]))\n",
      "current node: 89\n",
      "indices: [13 22 25]\n",
      "\n",
      "s1: CCB\n",
      "s2: CBB\n",
      "\n",
      "queue\n",
      "(97, array([1, 4]))\n",
      "(137, array([3, 5]))\n",
      "(153, array([13, 22]))\n",
      "current node: 97\n",
      "indices: [1 4]\n",
      "\n",
      "s1: ABB\n",
      "s2: AAB\n",
      "\n",
      "queue\n",
      "(137, array([3, 5]))\n",
      "(153, array([13, 22]))\n",
      "current node: 137\n",
      "indices: [3 5]\n",
      "\n",
      "s1: ABC\n",
      "s2: ABA\n",
      "\n",
      "queue\n",
      "(153, array([13, 22]))\n",
      "current node: 153\n",
      "indices: [13 22]\n",
      "\n",
      "s1: CBB\n",
      "s2: BBB\n",
      "\n",
      "queue\n"
     ]
    }
   ],
   "source": [
    "while queue:\n",
    "    current_node_id, indices = queue.pop(0)\n",
    "\n",
    "    print('current node:', current_node_id)\n",
    "    print('indices:', indices)\n",
    "    print()\n",
    "\n",
    "    np.random.seed(0)\n",
    "    s1_idx, s2_idx = np.random.choice(indices, 2, replace=False)\n",
    "    s1, s2 = strings[s1_idx], strings[s2_idx]\n",
    "    print('s1:', s1)\n",
    "    print('s2:', s2)\n",
    "    print()\n",
    "\n",
    "    mask_ppp = np.full(len(indices), False, dtype=bool)\n",
    "    mask_ppm = np.full(len(indices), False, dtype=bool)\n",
    "    mask_pmp = np.full(len(indices), False, dtype=bool)\n",
    "    mask_pmm = np.full(len(indices), False, dtype=bool)\n",
    "    mask_mpp = np.full(len(indices), False, dtype=bool)\n",
    "    mask_mpm = np.full(len(indices), False, dtype=bool)\n",
    "    mask_mmp = np.full(len(indices), False, dtype=bool)\n",
    "    mask_mmm = np.full(len(indices), False, dtype=bool)\n",
    "\n",
    "    for j, idx in enumerate(indices):\n",
    "        each_string = strings[idx]\n",
    "        (a1, a2, a3) = Levenshtein_dist_vector(each_string, s1)\n",
    "        (b1, b2, b3) = Levenshtein_dist_vector(each_string, s2)\n",
    "        # split into 8 parts\n",
    "        if a1>=b1 and a2>=b2 and a3>=b3:  # +++\n",
    "            mask_ppp[j] = True  # go tree_ppp\n",
    "        elif a1>=b1 and a2>=b2 and a3<b3:  # ++-\n",
    "            mask_ppm[j] = True  # go tree_ppm\n",
    "        elif a1>=b1 and a2<b2 and a3>=b3:  # +-+\n",
    "            mask_pmp[j] = True  # go tree_pmp\n",
    "        elif a1>=b1 and a2<b2 and a3<b3:  # +--\n",
    "            mask_pmm[j] = True  # go tree_pmm\n",
    "        elif a1<b1 and a2>=b2 and a3>=b3:  # -++\n",
    "            mask_mpp[j] = True  # go tree_mpp\n",
    "        elif a1<b1 and a2>=b2 and a3<b3:  # -+-\n",
    "            mask_mpm[j] = True  # go tree_mpm\n",
    "        elif a1<b1 and a2<b2 and a3>=b3:  # --+\n",
    "            mask_mmp[j] = True  # go tree_mmp\n",
    "        else:  # ---\n",
    "            mask_mmm[j] = True  # go tree_mmm\n",
    "\n",
    "    indices_ppp = indices[mask_ppp]\n",
    "    indices_ppm = indices[mask_ppm]\n",
    "    indices_pmp = indices[mask_pmp]\n",
    "    indices_pmm = indices[mask_pmm]\n",
    "    indices_mpp = indices[mask_mpp]\n",
    "    indices_mpm = indices[mask_mpm]\n",
    "    indices_mmp = indices[mask_mmp]\n",
    "    indices_mmm = indices[mask_mmm]\n",
    "\n",
    "    eight_indices = [indices_ppp, indices_ppm, indices_pmp, indices_pmm, indices_mpp, indices_mpm, indices_mmp, indices_mmm]\n",
    "\n",
    "    tree_s1[current_node_id] = s1_idx\n",
    "    tree_s2[current_node_id] = s2_idx\n",
    "\n",
    "    id_ppp = node_counter\n",
    "    id_ppm = node_counter + 1\n",
    "    id_pmp = node_counter + 2\n",
    "    id_pmm = node_counter + 3\n",
    "    id_mpp = node_counter + 4\n",
    "    id_mpm = node_counter + 5\n",
    "    id_mmp = node_counter + 6\n",
    "    id_mmm = node_counter + 7\n",
    "    node_counter += 8\n",
    "\n",
    "    tree_ppp[current_node_id] = id_ppp\n",
    "    tree_ppm[current_node_id] = id_ppm\n",
    "    tree_pmp[current_node_id] = id_pmp\n",
    "    tree_pmm[current_node_id] = id_pmm\n",
    "    tree_mpp[current_node_id] = id_mpp\n",
    "    tree_mpm[current_node_id] = id_mpm\n",
    "    tree_mmp[current_node_id] = id_mmp\n",
    "    tree_mmm[current_node_id] = id_mmm\n",
    "\n",
    "    eight_ids = [id_ppp, id_ppm, id_pmp, id_pmm, id_mpp, id_mpm, id_mmp, id_mmm]\n",
    "    # end as a leaf\n",
    "    for indices, next_id in zip(eight_indices, eight_ids):\n",
    "        if len(indices) == 0:\n",
    "            pass\n",
    "\n",
    "        elif len(indices) == 1:\n",
    "            leaf_value[next_id] = indices[0]\n",
    "\n",
    "        else:\n",
    "            queue.append((next_id, indices))\n",
    "            \n",
    "    print('queue')\n",
    "    for q in queue:\n",
    "        print(q)"
   ]
  },
  {
   "cell_type": "code",
   "execution_count": 1530,
   "id": "fdbd8a2b",
   "metadata": {},
   "outputs": [
    {
     "data": {
      "text/plain": [
       "[]"
      ]
     },
     "execution_count": 1530,
     "metadata": {},
     "output_type": "execute_result"
    }
   ],
   "source": [
    "queue"
   ]
  },
  {
   "cell_type": "markdown",
   "id": "2ddcec28",
   "metadata": {},
   "source": [
    "### End of queue\n"
   ]
  },
  {
   "cell_type": "markdown",
   "id": "408eae2d",
   "metadata": {},
   "source": [
    "# Tree Analysis\n"
   ]
  },
  {
   "cell_type": "code",
   "execution_count": 1250,
   "id": "84bea65f",
   "metadata": {},
   "outputs": [],
   "source": [
    "tree = [\n",
    "    tree_s1, tree_s2, \n",
    "    tree_ppp, tree_ppm, tree_pmp, tree_pmm, \n",
    "    tree_mpp, tree_mpm, tree_mmp, tree_mmm, \n",
    "    leaf_value\n",
    "]"
   ]
  },
  {
   "cell_type": "code",
   "execution_count": 1251,
   "id": "9d84dfaa",
   "metadata": {},
   "outputs": [
    {
     "data": {
      "text/plain": [
       "array([11, 18, 20, -1, -1, -1, -1, 28, -1, 26, 18, -1, -1, -1, -1, -1, -1,\n",
       "        8, 27, -1, -1, -1, -1, 31, -1, 12, 17, -1, -1, -1, -1, -1, -1, -1,\n",
       "       -1, -1, -1, -1, -1, -1, -1, -1, -1, -1, -1, -1, -1, -1, -1, -1, -1,\n",
       "       -1, -1, -1, -1, -1, -1, -1, -1, -1, -1, -1, -1, -1, -1, -1, -1, -1,\n",
       "       -1, -1, -1, -1, -1, -1, -1, -1, -1, -1, -1, -1, -1, -1, -1, -1, -1,\n",
       "       -1, -1, -1, -1, -1, -1, -1, -1, -1, -1, -1, -1, -1, -1, -1, -1, -1,\n",
       "       -1, -1, -1, -1, -1, -1, -1, -1, -1, -1, -1, -1, -1, -1, -1, -1, -1,\n",
       "       -1, -1, -1, -1, -1, -1, -1, -1, -1, -1, -1, -1, -1, -1, -1, -1, -1,\n",
       "       -1, -1, -1, -1, -1, -1, -1, -1, -1, -1, -1, -1, -1, -1, -1, -1, -1,\n",
       "       -1, -1, -1, -1, -1, -1, -1, -1, -1, -1, -1, -1, -1, -1, -1, -1, -1,\n",
       "       -1, -1, -1, -1, -1, -1, -1, -1, -1, -1, -1, -1, -1, -1, -1, -1, -1,\n",
       "       -1, -1, -1, -1, -1, -1, -1, -1, -1, -1, -1, -1, -1, -1, -1, -1, -1,\n",
       "       -1, -1, -1, -1, -1, -1, -1, -1, -1, -1, -1, -1, -1, -1, -1, -1, -1,\n",
       "       -1, -1, -1, -1, -1, -1, -1, -1, -1, -1, -1, -1, -1, -1, -1, -1, -1,\n",
       "       -1, -1, -1, -1, -1, -1, -1, -1, -1, -1, -1, -1, -1, -1, -1, -1, -1,\n",
       "       -1, -1, -1, -1, -1, -1, -1, -1, -1], dtype=int32)"
      ]
     },
     "execution_count": 1251,
     "metadata": {},
     "output_type": "execute_result"
    }
   ],
   "source": [
    "tree_s1"
   ]
  },
  {
   "cell_type": "code",
   "execution_count": 1252,
   "id": "3066d5eb",
   "metadata": {},
   "outputs": [
    {
     "data": {
      "text/plain": [
       "array([22, 26,  8, -1, -1, -1, -1, 12, -1, 22,  1, -1, -1, -1, -1, -1, -1,\n",
       "        0,  6, -1, -1, -1, -1, 21, -1,  9, 14, -1, -1, -1, -1, -1, -1, -1,\n",
       "       -1, -1, -1, -1, -1, -1, -1, -1, -1, -1, -1, -1, -1, -1, -1, -1, -1,\n",
       "       -1, -1, -1, -1, -1, -1, -1, -1, -1, -1, -1, -1, -1, -1, -1, -1, -1,\n",
       "       -1, -1, -1, -1, -1, -1, -1, -1, -1, -1, -1, -1, -1, -1, -1, -1, -1,\n",
       "       -1, -1, -1, -1, -1, -1, -1, -1, -1, -1, -1, -1, -1, -1, -1, -1, -1,\n",
       "       -1, -1, -1, -1, -1, -1, -1, -1, -1, -1, -1, -1, -1, -1, -1, -1, -1,\n",
       "       -1, -1, -1, -1, -1, -1, -1, -1, -1, -1, -1, -1, -1, -1, -1, -1, -1,\n",
       "       -1, -1, -1, -1, -1, -1, -1, -1, -1, -1, -1, -1, -1, -1, -1, -1, -1,\n",
       "       -1, -1, -1, -1, -1, -1, -1, -1, -1, -1, -1, -1, -1, -1, -1, -1, -1,\n",
       "       -1, -1, -1, -1, -1, -1, -1, -1, -1, -1, -1, -1, -1, -1, -1, -1, -1,\n",
       "       -1, -1, -1, -1, -1, -1, -1, -1, -1, -1, -1, -1, -1, -1, -1, -1, -1,\n",
       "       -1, -1, -1, -1, -1, -1, -1, -1, -1, -1, -1, -1, -1, -1, -1, -1, -1,\n",
       "       -1, -1, -1, -1, -1, -1, -1, -1, -1, -1, -1, -1, -1, -1, -1, -1, -1,\n",
       "       -1, -1, -1, -1, -1, -1, -1, -1, -1, -1, -1, -1, -1, -1, -1, -1, -1,\n",
       "       -1, -1, -1, -1, -1, -1, -1, -1, -1], dtype=int32)"
      ]
     },
     "execution_count": 1252,
     "metadata": {},
     "output_type": "execute_result"
    }
   ],
   "source": [
    "tree_s2"
   ]
  },
  {
   "cell_type": "code",
   "execution_count": 1253,
   "id": "644a1e8a",
   "metadata": {},
   "outputs": [
    {
     "data": {
      "text/plain": [
       "array([ 1,  9, 17, -1, -1, -1, -1, 25, -1, 33, 41, -1, -1, -1, -1, -1, -1,\n",
       "       49, 57, -1, -1, -1, -1, 65, -1, 73, 81, -1, -1, -1, -1, -1, -1, -1,\n",
       "       -1, -1, -1, -1, -1, -1, -1, -1, -1, -1, -1, -1, -1, -1, -1, -1, -1,\n",
       "       -1, -1, -1, -1, -1, -1, -1, -1, -1, -1, -1, -1, -1, -1, -1, -1, -1,\n",
       "       -1, -1, -1, -1, -1, -1, -1, -1, -1, -1, -1, -1, -1, -1, -1, -1, -1,\n",
       "       -1, -1, -1, -1, -1, -1, -1, -1, -1, -1, -1, -1, -1, -1, -1, -1, -1,\n",
       "       -1, -1, -1, -1, -1, -1, -1, -1, -1, -1, -1, -1, -1, -1, -1, -1, -1,\n",
       "       -1, -1, -1, -1, -1, -1, -1, -1, -1, -1, -1, -1, -1, -1, -1, -1, -1,\n",
       "       -1, -1, -1, -1, -1, -1, -1, -1, -1, -1, -1, -1, -1, -1, -1, -1, -1,\n",
       "       -1, -1, -1, -1, -1, -1, -1, -1, -1, -1, -1, -1, -1, -1, -1, -1, -1,\n",
       "       -1, -1, -1, -1, -1, -1, -1, -1, -1, -1, -1, -1, -1, -1, -1, -1, -1,\n",
       "       -1, -1, -1, -1, -1, -1, -1, -1, -1, -1, -1, -1, -1, -1, -1, -1, -1,\n",
       "       -1, -1, -1, -1, -1, -1, -1, -1, -1, -1, -1, -1, -1, -1, -1, -1, -1,\n",
       "       -1, -1, -1, -1, -1, -1, -1, -1, -1, -1, -1, -1, -1, -1, -1, -1, -1,\n",
       "       -1, -1, -1, -1, -1, -1, -1, -1, -1, -1, -1, -1, -1, -1, -1, -1, -1,\n",
       "       -1, -1, -1, -1, -1, -1, -1, -1, -1], dtype=int32)"
      ]
     },
     "execution_count": 1253,
     "metadata": {},
     "output_type": "execute_result"
    }
   ],
   "source": [
    "tree_ppp"
   ]
  },
  {
   "cell_type": "code",
   "execution_count": 1254,
   "id": "158bc614",
   "metadata": {},
   "outputs": [
    {
     "data": {
      "text/plain": [
       "array([-1, -1, -1, -1, -1, -1, -1, -1, 11, -1, -1, -1, -1, -1, -1, -1, -1,\n",
       "       -1, -1, -1, -1, -1, -1, -1, -1, -1, -1, -1, -1, -1, -1, -1, -1, -1,\n",
       "       -1, -1, -1, -1, -1, -1, -1, -1, -1, -1, -1, -1, -1, -1, -1, -1, -1,\n",
       "       -1, -1, -1, -1, -1, -1, -1, -1, -1, -1, -1, -1, -1, -1, -1, -1, -1,\n",
       "       -1, -1, -1, -1, -1, -1, -1, -1, -1, -1, -1, -1, -1, -1, -1, -1, -1,\n",
       "       -1, -1, -1, -1, -1, -1, -1, -1, -1, -1, -1, -1, -1, -1, -1, -1, -1,\n",
       "       -1, -1, -1, -1, -1, -1, -1, -1, -1, -1, -1, -1, -1, -1, -1, -1, -1,\n",
       "       -1, -1, -1, -1, -1, -1, -1, -1, -1, -1, -1, -1, -1, -1, -1, -1, -1,\n",
       "       -1, -1, -1, -1, -1, -1, -1, -1, -1, -1, -1, -1, -1, -1, -1, -1, -1,\n",
       "       -1, -1, -1, -1, -1, -1, -1, -1, -1, -1, -1, -1, -1, -1, -1, -1, -1,\n",
       "       -1, -1, -1, -1, -1, -1, -1, -1, -1, -1, -1, -1, -1, -1, -1, -1, -1,\n",
       "       -1, -1, -1, -1, -1, -1, -1, -1, -1, -1, -1, -1, -1, -1, -1, -1, -1,\n",
       "       -1, -1, -1, -1, -1, -1, -1, -1, -1, -1, -1, -1, -1, -1, -1, -1, -1,\n",
       "       -1, -1, -1, -1, -1, -1, -1, -1, -1, -1, -1, -1, -1, -1, -1, -1, -1,\n",
       "       -1, -1, -1, -1, -1, -1, -1, -1, -1, -1, -1, -1, -1, -1, -1, -1, -1,\n",
       "       -1, -1, -1, -1, -1, -1, -1, -1, -1], dtype=int32)"
      ]
     },
     "execution_count": 1254,
     "metadata": {},
     "output_type": "execute_result"
    }
   ],
   "source": [
    "leaf_value"
   ]
  },
  {
   "cell_type": "code",
   "execution_count": null,
   "id": "03d9d34d",
   "metadata": {},
   "outputs": [],
   "source": []
  },
  {
   "cell_type": "code",
   "execution_count": null,
   "id": "7f940ec5",
   "metadata": {},
   "outputs": [],
   "source": []
  }
 ],
 "metadata": {
  "kernelspec": {
   "display_name": "venv_ANN_Leven",
   "language": "python",
   "name": "python3"
  },
  "language_info": {
   "codemirror_mode": {
    "name": "ipython",
    "version": 3
   },
   "file_extension": ".py",
   "mimetype": "text/x-python",
   "name": "python",
   "nbconvert_exporter": "python",
   "pygments_lexer": "ipython3",
   "version": "3.12.9"
  }
 },
 "nbformat": 4,
 "nbformat_minor": 5
}

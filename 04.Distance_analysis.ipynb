{
 "cells": [
  {
   "cell_type": "markdown",
   "id": "73814f69",
   "metadata": {},
   "source": [
    "# Imports\n"
   ]
  },
  {
   "cell_type": "code",
   "execution_count": 1,
   "id": "a993f7bc",
   "metadata": {},
   "outputs": [],
   "source": [
    "import numpy as np\n",
    "import pandas as pd \n",
    "\n",
    "import matplotlib.pyplot as plt\n",
    "import seaborn as sns\n",
    "\n",
    "import pickle\n",
    "import joblib\n",
    "import random\n",
    "import sys\n",
    "import os\n",
    "import re\n",
    "\n",
    "from rapidfuzz import fuzz\n",
    "from rapidfuzz.distance import Levenshtein\n",
    "import unicodedata\n",
    "\n",
    "from ann_levenshtein import LevenshteinIndex"
   ]
  },
  {
   "cell_type": "markdown",
   "id": "f7038f28",
   "metadata": {},
   "source": [
    "# Data\n"
   ]
  },
  {
   "cell_type": "markdown",
   "id": "fa957bcb",
   "metadata": {},
   "source": [
    "### Random Strings\n"
   ]
  },
  {
   "cell_type": "code",
   "execution_count": 2,
   "id": "51dc8f69",
   "metadata": {},
   "outputs": [],
   "source": [
    "strings = [\n",
    "    \"AAA\", \"AAB\", \"AAC\", \"ABA\", \n",
    "    \"ABB\", \"ABC\", \"ACA\", \"ACB\",\n",
    "    \"ACC\", \"BAA\", \"BAB\", \"BAC\", \n",
    "    \"BBA\", \"BBB\", \"BBC\", \"BCA\",\n",
    "    \"BCB\", \"BCC\", \"CAA\", \"CAB\", \n",
    "    \"CAC\", \"CBA\", \"CBB\", \"CBC\",\n",
    "    \"CCA\", \"CCB\", \"CCC\", \"ABCA\", \n",
    "    \"BABC\", \"CABA\", \"ACBC\",\"CBAC\"\n",
    "]"
   ]
  },
  {
   "cell_type": "markdown",
   "id": "eb179cc2",
   "metadata": {},
   "source": [
    "### function\n"
   ]
  },
  {
   "cell_type": "code",
   "execution_count": null,
   "id": "fa5b9261",
   "metadata": {},
   "outputs": [],
   "source": [
    "def Levenshtein_dist_vector(s1, s2):\n",
    "        insertions, deletions, substitutions = 0, 0, 0\n",
    "        for tag, _, _ in Levenshtein.editops(s1, s2):\n",
    "            if tag == 'insert':\n",
    "                insertions += 1\n",
    "            elif tag == 'delete':\n",
    "                deletions += 1\n",
    "            elif tag == 'replace':\n",
    "                substitutions += 1\n",
    "        return (insertions, deletions, substitutions)"
   ]
  },
  {
   "cell_type": "markdown",
   "id": "de5d3cfa",
   "metadata": {},
   "source": [
    "# Build tree\n"
   ]
  },
  {
   "cell_type": "code",
   "execution_count": 3,
   "id": "5aed73e0",
   "metadata": {},
   "outputs": [],
   "source": [
    "indices = np.arange(len(strings))"
   ]
  },
  {
   "cell_type": "code",
   "execution_count": 4,
   "id": "f8a56104",
   "metadata": {},
   "outputs": [],
   "source": [
    "# Initialize\n",
    "estimated_nodes = 8 * len(strings) + 8\n",
    "\n",
    "tree_s1 = np.full(shape=estimated_nodes, fill_value=-1, dtype=np.int32)\n",
    "tree_s2 = np.full(shape=estimated_nodes, fill_value=-1, dtype=np.int32)\n",
    "\n",
    "tree_ppp = np.full(shape=estimated_nodes, fill_value=-1, dtype=np.int32)\n",
    "tree_ppm = np.full(shape=estimated_nodes, fill_value=-1, dtype=np.int32)\n",
    "tree_pmp = np.full(shape=estimated_nodes, fill_value=-1, dtype=np.int32)\n",
    "tree_pmm = np.full(shape=estimated_nodes, fill_value=-1, dtype=np.int32)\n",
    "tree_mpp = np.full(shape=estimated_nodes, fill_value=-1, dtype=np.int32)\n",
    "tree_mpm = np.full(shape=estimated_nodes, fill_value=-1, dtype=np.int32)\n",
    "tree_mmp = np.full(shape=estimated_nodes, fill_value=-1, dtype=np.int32)\n",
    "tree_mmm = np.full(shape=estimated_nodes, fill_value=-1, dtype=np.int32)\n",
    "leaf_value = np.full(shape=estimated_nodes, fill_value=-1, dtype=np.int32)"
   ]
  },
  {
   "cell_type": "code",
   "execution_count": 5,
   "id": "a840c7e3",
   "metadata": {},
   "outputs": [
    {
     "data": {
      "text/plain": [
       "array([-1, -1, -1, -1, -1, -1, -1, -1, -1, -1, -1, -1, -1, -1, -1, -1, -1,\n",
       "       -1, -1, -1, -1, -1, -1, -1, -1, -1, -1, -1, -1, -1, -1, -1, -1, -1,\n",
       "       -1, -1, -1, -1, -1, -1, -1, -1, -1, -1, -1, -1, -1, -1, -1, -1, -1,\n",
       "       -1, -1, -1, -1, -1, -1, -1, -1, -1, -1, -1, -1, -1, -1, -1, -1, -1,\n",
       "       -1, -1, -1, -1, -1, -1, -1, -1, -1, -1, -1, -1, -1, -1, -1, -1, -1,\n",
       "       -1, -1, -1, -1, -1, -1, -1, -1, -1, -1, -1, -1, -1, -1, -1, -1, -1,\n",
       "       -1, -1, -1, -1, -1, -1, -1, -1, -1, -1, -1, -1, -1, -1, -1, -1, -1,\n",
       "       -1, -1, -1, -1, -1, -1, -1, -1, -1, -1, -1, -1, -1, -1, -1, -1, -1,\n",
       "       -1, -1, -1, -1, -1, -1, -1, -1, -1, -1, -1, -1, -1, -1, -1, -1, -1,\n",
       "       -1, -1, -1, -1, -1, -1, -1, -1, -1, -1, -1, -1, -1, -1, -1, -1, -1,\n",
       "       -1, -1, -1, -1, -1, -1, -1, -1, -1, -1, -1, -1, -1, -1, -1, -1, -1,\n",
       "       -1, -1, -1, -1, -1, -1, -1, -1, -1, -1, -1, -1, -1, -1, -1, -1, -1,\n",
       "       -1, -1, -1, -1, -1, -1, -1, -1, -1, -1, -1, -1, -1, -1, -1, -1, -1,\n",
       "       -1, -1, -1, -1, -1, -1, -1, -1, -1, -1, -1, -1, -1, -1, -1, -1, -1,\n",
       "       -1, -1, -1, -1, -1, -1, -1, -1, -1, -1, -1, -1, -1, -1, -1, -1, -1,\n",
       "       -1, -1, -1, -1, -1, -1, -1, -1, -1], dtype=int32)"
      ]
     },
     "execution_count": 5,
     "metadata": {},
     "output_type": "execute_result"
    }
   ],
   "source": [
    "tree_s1"
   ]
  },
  {
   "cell_type": "code",
   "execution_count": 53,
   "id": "09c46e0a",
   "metadata": {},
   "outputs": [],
   "source": [
    "# queue\n",
    "queue = [(0, np.arange(len(strings)))]  # (idx, indices)\n",
    "node_counter = 1\n"
   ]
  },
  {
   "cell_type": "code",
   "execution_count": 54,
   "id": "eb33c325",
   "metadata": {},
   "outputs": [
    {
     "data": {
      "text/plain": [
       "[(0,\n",
       "  array([ 0,  1,  2,  3,  4,  5,  6,  7,  8,  9, 10, 11, 12, 13, 14, 15, 16,\n",
       "         17, 18, 19, 20, 21, 22, 23, 24, 25, 26, 27, 28, 29, 30, 31]))]"
      ]
     },
     "execution_count": 54,
     "metadata": {},
     "output_type": "execute_result"
    }
   ],
   "source": [
    "queue"
   ]
  },
  {
   "cell_type": "markdown",
   "id": "c3749dbf",
   "metadata": {},
   "source": [
    "### node 0\n"
   ]
  },
  {
   "cell_type": "code",
   "execution_count": 55,
   "id": "6947c604",
   "metadata": {},
   "outputs": [],
   "source": [
    "current_node_id, indices = queue.pop(0)"
   ]
  },
  {
   "cell_type": "code",
   "execution_count": 56,
   "id": "c01a4784",
   "metadata": {},
   "outputs": [],
   "source": [
    "s1_idx, s2_idx = np.random.choice(indices, 2, replace=False)\n",
    "s1, s2 = strings[s1_idx], strings[s2_idx]"
   ]
  },
  {
   "cell_type": "code",
   "execution_count": 57,
   "id": "c913d578",
   "metadata": {},
   "outputs": [
    {
     "data": {
      "text/plain": [
       "('ABC', 'ABA')"
      ]
     },
     "execution_count": 57,
     "metadata": {},
     "output_type": "execute_result"
    }
   ],
   "source": [
    "s1, s2"
   ]
  },
  {
   "cell_type": "code",
   "execution_count": 58,
   "id": "5fd78553",
   "metadata": {},
   "outputs": [],
   "source": [
    "mask_ppp = np.full(len(indices), False, dtype=bool)\n",
    "mask_ppm = np.full(len(indices), False, dtype=bool)\n",
    "mask_pmp = np.full(len(indices), False, dtype=bool)\n",
    "mask_pmm = np.full(len(indices), False, dtype=bool)\n",
    "mask_mpp = np.full(len(indices), False, dtype=bool)\n",
    "mask_mpm = np.full(len(indices), False, dtype=bool)\n",
    "mask_mmp = np.full(len(indices), False, dtype=bool)\n",
    "mask_mmm = np.full(len(indices), False, dtype=bool)"
   ]
  },
  {
   "cell_type": "code",
   "execution_count": 60,
   "id": "3b985b4c",
   "metadata": {},
   "outputs": [],
   "source": [
    "for j, idx in enumerate(indices):\n",
    "    each_string = strings[idx]\n",
    "    (a1, a2, a3) = Levenshtein_dist_vector(each_string, s1)\n",
    "    (b1, b2, b3) = Levenshtein_dist_vector(each_string, s2)\n",
    "    # split into 8 parts\n",
    "    if a1>=b1 and a2>=b2 and a3>=b3:  # +++\n",
    "        mask_ppp[j] = True  # go tree_ppp\n",
    "    elif a1>=b1 and a2>=b2 and a3<b3:  # ++-\n",
    "        mask_ppm[j] = True  # go tree_ppm\n",
    "    elif a1>=b1 and a2<b2 and a3>=b3:  # +-+\n",
    "        mask_pmp[j] = True  # go tree_pmp\n",
    "    elif a1>=b1 and a2<b2 and a3<b3:  # +--\n",
    "        mask_pmm[j] = True  # go tree_pmm\n",
    "    elif a1<b1 and a2>=b2 and a3>=b3:  # -++\n",
    "        mask_mpp[j] = True  # go tree_mpp\n",
    "    elif a1<b1 and a2>=b2 and a3<b3:  # -+-\n",
    "        mask_mpm[j] = True  # go tree_mpm\n",
    "    elif a1<b1 and a2<b2 and a3>=b3:  # --+\n",
    "        mask_mmp[j] = True  # go tree_mmp\n",
    "    else:  # ---\n",
    "        mask_mmm[j] = True  # go tree_mmm"
   ]
  },
  {
   "cell_type": "code",
   "execution_count": 61,
   "id": "e21b9f20",
   "metadata": {},
   "outputs": [
    {
     "data": {
      "text/plain": [
       "array([ True, False, False,  True,  True, False, False, False, False,\n",
       "        True,  True,  True,  True,  True, False,  True, False, False,\n",
       "        True,  True, False,  True,  True, False, False, False, False,\n",
       "        True, False,  True, False,  True])"
      ]
     },
     "execution_count": 61,
     "metadata": {},
     "output_type": "execute_result"
    }
   ],
   "source": [
    "mask_ppp"
   ]
  },
  {
   "cell_type": "code",
   "execution_count": 62,
   "id": "27e720c9",
   "metadata": {},
   "outputs": [],
   "source": [
    "indices_ppp = indices[mask_ppp]\n",
    "indices_ppm = indices[mask_ppm]\n",
    "indices_pmp = indices[mask_pmp]\n",
    "indices_pmm = indices[mask_pmm]\n",
    "indices_mpp = indices[mask_mpp]\n",
    "indices_mpm = indices[mask_mpm]\n",
    "indices_mmp = indices[mask_mmp]\n",
    "indices_mmm = indices[mask_mmm]"
   ]
  },
  {
   "cell_type": "code",
   "execution_count": 63,
   "id": "a072f7ca",
   "metadata": {},
   "outputs": [
    {
     "data": {
      "text/plain": [
       "(array([ 0,  3,  4,  9, 10, 11, 12, 13, 15, 18, 19, 21, 22, 27, 29, 31]),\n",
       " array([ 5,  6,  7,  8, 14, 16, 17, 23, 24, 25, 26, 28, 30]),\n",
       " array([], dtype=int64),\n",
       " array([], dtype=int64),\n",
       " array([], dtype=int64),\n",
       " array([], dtype=int64),\n",
       " array([ 1,  2, 20]),\n",
       " array([], dtype=int64))"
      ]
     },
     "execution_count": 63,
     "metadata": {},
     "output_type": "execute_result"
    }
   ],
   "source": [
    "indices_ppp, indices_ppm, indices_pmp, indices_pmm, indices_mpp, indices_mpm, indices_mmp, indices_mmm"
   ]
  },
  {
   "cell_type": "code",
   "execution_count": 64,
   "id": "658b17c7",
   "metadata": {},
   "outputs": [],
   "source": [
    "tree_s1[current_node_id] = s1_idx\n",
    "tree_s2[current_node_id] = s2_idx"
   ]
  },
  {
   "cell_type": "code",
   "execution_count": 65,
   "id": "431060b1",
   "metadata": {},
   "outputs": [],
   "source": [
    "id_ppp = node_counter\n",
    "id_ppm = node_counter + 1\n",
    "id_pmp = node_counter + 2\n",
    "id_pmm = node_counter + 3\n",
    "id_mpp = node_counter + 4\n",
    "id_mpm = node_counter + 5\n",
    "id_mmp = node_counter + 6\n",
    "id_mmm = node_counter + 7\n",
    "node_counter += 8"
   ]
  },
  {
   "cell_type": "code",
   "execution_count": 66,
   "id": "b919d25a",
   "metadata": {},
   "outputs": [],
   "source": [
    "tree_ppp[current_node_id] = id_ppp\n",
    "tree_ppm[current_node_id] = id_ppm\n",
    "tree_pmp[current_node_id] = id_pmp\n",
    "tree_pmm[current_node_id] = id_pmm\n",
    "tree_mpp[current_node_id] = id_mpp\n",
    "tree_mpm[current_node_id] = id_mpm\n",
    "tree_mmp[current_node_id] = id_mmp\n",
    "tree_mmm[current_node_id] = id_mmm"
   ]
  },
  {
   "cell_type": "code",
   "execution_count": 67,
   "id": "25c4037f",
   "metadata": {},
   "outputs": [],
   "source": [
    "queue.append((id_ppp, indices_ppp))\n",
    "queue.append((id_ppm, indices_ppm))\n",
    "queue.append((id_pmp, indices_pmp))\n",
    "queue.append((id_pmm, indices_pmm))\n",
    "queue.append((id_mpp, indices_mpp))\n",
    "queue.append((id_mpm, indices_mpm))\n",
    "queue.append((id_mmp, indices_mmp))\n",
    "queue.append((id_mmm, indices_mmm))"
   ]
  },
  {
   "cell_type": "code",
   "execution_count": 68,
   "id": "0383f833",
   "metadata": {},
   "outputs": [
    {
     "data": {
      "text/plain": [
       "[(1, array([ 0,  3,  4,  9, 10, 11, 12, 13, 15, 18, 19, 21, 22, 27, 29, 31])),\n",
       " (2, array([ 5,  6,  7,  8, 14, 16, 17, 23, 24, 25, 26, 28, 30])),\n",
       " (3, array([], dtype=int64)),\n",
       " (4, array([], dtype=int64)),\n",
       " (5, array([], dtype=int64)),\n",
       " (6, array([], dtype=int64)),\n",
       " (7, array([ 1,  2, 20])),\n",
       " (8, array([], dtype=int64))]"
      ]
     },
     "execution_count": 68,
     "metadata": {},
     "output_type": "execute_result"
    }
   ],
   "source": [
    "queue"
   ]
  },
  {
   "cell_type": "markdown",
   "id": "c23cf07a",
   "metadata": {},
   "source": [
    "### node 1\n"
   ]
  },
  {
   "cell_type": "code",
   "execution_count": 69,
   "id": "93a9d79b",
   "metadata": {},
   "outputs": [],
   "source": [
    "current_node_id, indices = queue.pop(0)"
   ]
  },
  {
   "cell_type": "code",
   "execution_count": 70,
   "id": "fb72b034",
   "metadata": {},
   "outputs": [
    {
     "data": {
      "text/plain": [
       "(1, array([ 0,  3,  4,  9, 10, 11, 12, 13, 15, 18, 19, 21, 22, 27, 29, 31]))"
      ]
     },
     "execution_count": 70,
     "metadata": {},
     "output_type": "execute_result"
    }
   ],
   "source": [
    "current_node_id, indices"
   ]
  },
  {
   "cell_type": "code",
   "execution_count": 71,
   "id": "eb64440c",
   "metadata": {},
   "outputs": [],
   "source": [
    "s1_idx, s2_idx = np.random.choice(indices, 2, replace=False)\n",
    "s1, s2 = strings[s1_idx], strings[s2_idx]"
   ]
  },
  {
   "cell_type": "code",
   "execution_count": 72,
   "id": "36f9b795",
   "metadata": {},
   "outputs": [
    {
     "data": {
      "text/plain": [
       "('CAA', 'CBA')"
      ]
     },
     "execution_count": 72,
     "metadata": {},
     "output_type": "execute_result"
    }
   ],
   "source": [
    "s1, s2"
   ]
  },
  {
   "cell_type": "code",
   "execution_count": 73,
   "id": "7fde0034",
   "metadata": {},
   "outputs": [],
   "source": [
    "mask_ppp = np.full(len(indices), False, dtype=bool)\n",
    "mask_ppm = np.full(len(indices), False, dtype=bool)\n",
    "mask_pmp = np.full(len(indices), False, dtype=bool)\n",
    "mask_pmm = np.full(len(indices), False, dtype=bool)\n",
    "mask_mpp = np.full(len(indices), False, dtype=bool)\n",
    "mask_mpm = np.full(len(indices), False, dtype=bool)\n",
    "mask_mmp = np.full(len(indices), False, dtype=bool)\n",
    "mask_mmm = np.full(len(indices), False, dtype=bool)"
   ]
  },
  {
   "cell_type": "code",
   "execution_count": 75,
   "id": "f6153bbf",
   "metadata": {},
   "outputs": [],
   "source": [
    "for j, idx in enumerate(indices):\n",
    "    each_string = strings[idx]\n",
    "    (a1, a2, a3) = Levenshtein_dist_vector(each_string, s1)\n",
    "    (b1, b2, b3) = Levenshtein_dist_vector(each_string, s2)\n",
    "    # split into 8 parts\n",
    "    if a1>=b1 and a2>=b2 and a3>=b3:  # +++\n",
    "        mask_ppp[j] = True  # go tree_ppp\n",
    "    elif a1>=b1 and a2>=b2 and a3<b3:  # ++-\n",
    "        mask_ppm[j] = True  # go tree_ppm\n",
    "    elif a1>=b1 and a2<b2 and a3>=b3:  # +-+\n",
    "        mask_pmp[j] = True  # go tree_pmp\n",
    "    elif a1>=b1 and a2<b2 and a3<b3:  # +--\n",
    "        mask_pmm[j] = True  # go tree_pmm\n",
    "    elif a1<b1 and a2>=b2 and a3>=b3:  # -++\n",
    "        mask_mpp[j] = True  # go tree_mpp\n",
    "    elif a1<b1 and a2>=b2 and a3<b3:  # -+-\n",
    "        mask_mpm[j] = True  # go tree_mpm\n",
    "    elif a1<b1 and a2<b2 and a3>=b3:  # --+\n",
    "        mask_mmp[j] = True  # go tree_mmp\n",
    "    else:  # ---\n",
    "        mask_mmm[j] = True  # go tree_mmm"
   ]
  },
  {
   "cell_type": "code",
   "execution_count": 76,
   "id": "70507eef",
   "metadata": {},
   "outputs": [
    {
     "data": {
      "text/plain": [
       "array([False, False, False, False, False, False,  True,  True, False,\n",
       "       False, False,  True,  True, False,  True,  True])"
      ]
     },
     "execution_count": 76,
     "metadata": {},
     "output_type": "execute_result"
    }
   ],
   "source": [
    "mask_ppp"
   ]
  },
  {
   "cell_type": "code",
   "execution_count": 77,
   "id": "6c973409",
   "metadata": {},
   "outputs": [],
   "source": [
    "indices_ppp = indices[mask_ppp]\n",
    "indices_ppm = indices[mask_ppm]\n",
    "indices_pmp = indices[mask_pmp]\n",
    "indices_pmm = indices[mask_pmm]\n",
    "indices_mpp = indices[mask_mpp]\n",
    "indices_mpm = indices[mask_mpm]\n",
    "indices_mmp = indices[mask_mmp]\n",
    "indices_mmm = indices[mask_mmm]"
   ]
  },
  {
   "cell_type": "code",
   "execution_count": 78,
   "id": "3012bd43",
   "metadata": {},
   "outputs": [
    {
     "data": {
      "text/plain": [
       "(array([12, 13, 21, 22, 29, 31]),\n",
       " array([ 0,  3,  4, 18, 27]),\n",
       " array([], dtype=int64),\n",
       " array([], dtype=int64),\n",
       " array([], dtype=int64),\n",
       " array([], dtype=int64),\n",
       " array([ 9, 10, 11, 15, 19]),\n",
       " array([], dtype=int64))"
      ]
     },
     "execution_count": 78,
     "metadata": {},
     "output_type": "execute_result"
    }
   ],
   "source": [
    "indices_ppp, indices_ppm, indices_pmp, indices_pmm, indices_mpp, indices_mpm, indices_mmp, indices_mmm"
   ]
  },
  {
   "cell_type": "code",
   "execution_count": 79,
   "id": "45f53f5b",
   "metadata": {},
   "outputs": [],
   "source": [
    "tree_s1[current_node_id] = s1_idx\n",
    "tree_s2[current_node_id] = s2_idx"
   ]
  },
  {
   "cell_type": "code",
   "execution_count": 80,
   "id": "ec3bb9cb",
   "metadata": {},
   "outputs": [],
   "source": [
    "id_ppp = node_counter\n",
    "id_ppm = node_counter + 1\n",
    "id_pmp = node_counter + 2\n",
    "id_pmm = node_counter + 3\n",
    "id_mpp = node_counter + 4\n",
    "id_mpm = node_counter + 5\n",
    "id_mmp = node_counter + 6\n",
    "id_mmm = node_counter + 7\n",
    "node_counter += 8"
   ]
  },
  {
   "cell_type": "code",
   "execution_count": 81,
   "id": "8a7a0242",
   "metadata": {},
   "outputs": [],
   "source": [
    "tree_ppp[current_node_id] = id_ppp\n",
    "tree_ppm[current_node_id] = id_ppm\n",
    "tree_pmp[current_node_id] = id_pmp\n",
    "tree_pmm[current_node_id] = id_pmm\n",
    "tree_mpp[current_node_id] = id_mpp\n",
    "tree_mpm[current_node_id] = id_mpm\n",
    "tree_mmp[current_node_id] = id_mmp\n",
    "tree_mmm[current_node_id] = id_mmm"
   ]
  },
  {
   "cell_type": "code",
   "execution_count": 82,
   "id": "3bd9a07c",
   "metadata": {},
   "outputs": [],
   "source": [
    "queue.append((id_ppp, indices_ppp))\n",
    "queue.append((id_ppm, indices_ppm))\n",
    "queue.append((id_pmp, indices_pmp))\n",
    "queue.append((id_pmm, indices_pmm))\n",
    "queue.append((id_mpp, indices_mpp))\n",
    "queue.append((id_mpm, indices_mpm))\n",
    "queue.append((id_mmp, indices_mmp))\n",
    "queue.append((id_mmm, indices_mmm))"
   ]
  },
  {
   "cell_type": "code",
   "execution_count": 83,
   "id": "738b2248",
   "metadata": {},
   "outputs": [
    {
     "data": {
      "text/plain": [
       "[(2, array([ 5,  6,  7,  8, 14, 16, 17, 23, 24, 25, 26, 28, 30])),\n",
       " (3, array([], dtype=int64)),\n",
       " (4, array([], dtype=int64)),\n",
       " (5, array([], dtype=int64)),\n",
       " (6, array([], dtype=int64)),\n",
       " (7, array([ 1,  2, 20])),\n",
       " (8, array([], dtype=int64)),\n",
       " (9, array([12, 13, 21, 22, 29, 31])),\n",
       " (10, array([ 0,  3,  4, 18, 27])),\n",
       " (11, array([], dtype=int64)),\n",
       " (12, array([], dtype=int64)),\n",
       " (13, array([], dtype=int64)),\n",
       " (14, array([], dtype=int64)),\n",
       " (15, array([ 9, 10, 11, 15, 19])),\n",
       " (16, array([], dtype=int64))]"
      ]
     },
     "execution_count": 83,
     "metadata": {},
     "output_type": "execute_result"
    }
   ],
   "source": [
    "queue"
   ]
  },
  {
   "cell_type": "markdown",
   "id": "3d0cc802",
   "metadata": {},
   "source": [
    "### node 2\n"
   ]
  },
  {
   "cell_type": "code",
   "execution_count": 85,
   "id": "439a75ef",
   "metadata": {},
   "outputs": [],
   "source": [
    "current_node_id, indices = queue.pop(0)"
   ]
  },
  {
   "cell_type": "code",
   "execution_count": 86,
   "id": "ee3ec08c",
   "metadata": {},
   "outputs": [
    {
     "data": {
      "text/plain": [
       "(2, array([ 5,  6,  7,  8, 14, 16, 17, 23, 24, 25, 26, 28, 30]))"
      ]
     },
     "execution_count": 86,
     "metadata": {},
     "output_type": "execute_result"
    }
   ],
   "source": [
    "current_node_id, indices"
   ]
  },
  {
   "cell_type": "code",
   "execution_count": null,
   "id": "8424a354",
   "metadata": {},
   "outputs": [],
   "source": [
    "# end as empty leaf\n",
    "if len(indices) == 0:\n",
    "    pass"
   ]
  },
  {
   "cell_type": "code",
   "execution_count": null,
   "id": "91bb1311",
   "metadata": {},
   "outputs": [],
   "source": [
    "# end as a leaf\n",
    "if len(indices) == 1:\n",
    "    leaf_value[current_node_id] = indices[0]"
   ]
  },
  {
   "cell_type": "code",
   "execution_count": 87,
   "id": "86e1c46a",
   "metadata": {},
   "outputs": [],
   "source": [
    "s1_idx, s2_idx = np.random.choice(indices, 2, replace=False)\n",
    "s1, s2 = strings[s1_idx], strings[s2_idx]"
   ]
  },
  {
   "cell_type": "code",
   "execution_count": 88,
   "id": "570499a7",
   "metadata": {},
   "outputs": [
    {
     "data": {
      "text/plain": [
       "('ACBC', 'ABC')"
      ]
     },
     "execution_count": 88,
     "metadata": {},
     "output_type": "execute_result"
    }
   ],
   "source": [
    "s1, s2"
   ]
  },
  {
   "cell_type": "code",
   "execution_count": 89,
   "id": "2f567250",
   "metadata": {},
   "outputs": [],
   "source": [
    "mask_ppp = np.full(len(indices), False, dtype=bool)\n",
    "mask_ppm = np.full(len(indices), False, dtype=bool)\n",
    "mask_pmp = np.full(len(indices), False, dtype=bool)\n",
    "mask_pmm = np.full(len(indices), False, dtype=bool)\n",
    "mask_mpp = np.full(len(indices), False, dtype=bool)\n",
    "mask_mpm = np.full(len(indices), False, dtype=bool)\n",
    "mask_mmp = np.full(len(indices), False, dtype=bool)\n",
    "mask_mmm = np.full(len(indices), False, dtype=bool)"
   ]
  },
  {
   "cell_type": "code",
   "execution_count": 90,
   "id": "7461582a",
   "metadata": {},
   "outputs": [],
   "source": [
    "for j, idx in enumerate(indices):\n",
    "    each_string = strings[idx]\n",
    "    (a1, a2, a3) = Levenshtein_dist_vector(each_string, s1)\n",
    "    (b1, b2, b3) = Levenshtein_dist_vector(each_string, s2)\n",
    "    # split into 8 parts\n",
    "    if a1>=b1 and a2>=b2 and a3>=b3:  # +++\n",
    "        mask_ppp[j] = True  # go tree_ppp\n",
    "    elif a1>=b1 and a2>=b2 and a3<b3:  # ++-\n",
    "        mask_ppm[j] = True  # go tree_ppm\n",
    "    elif a1>=b1 and a2<b2 and a3>=b3:  # +-+\n",
    "        mask_pmp[j] = True  # go tree_pmp\n",
    "    elif a1>=b1 and a2<b2 and a3<b3:  # +--\n",
    "        mask_pmm[j] = True  # go tree_pmm\n",
    "    elif a1<b1 and a2>=b2 and a3>=b3:  # -++\n",
    "        mask_mpp[j] = True  # go tree_mpp\n",
    "    elif a1<b1 and a2>=b2 and a3<b3:  # -+-\n",
    "        mask_mpm[j] = True  # go tree_mpm\n",
    "    elif a1<b1 and a2<b2 and a3>=b3:  # --+\n",
    "        mask_mmp[j] = True  # go tree_mmp\n",
    "    else:  # ---\n",
    "        mask_mmm[j] = True  # go tree_mmm"
   ]
  },
  {
   "cell_type": "code",
   "execution_count": 91,
   "id": "dfb77b78",
   "metadata": {},
   "outputs": [
    {
     "data": {
      "text/plain": [
       "array([ True, False, False, False,  True, False, False, False, False,\n",
       "       False, False, False, False])"
      ]
     },
     "execution_count": 91,
     "metadata": {},
     "output_type": "execute_result"
    }
   ],
   "source": [
    "mask_ppp"
   ]
  },
  {
   "cell_type": "code",
   "execution_count": 92,
   "id": "e8e9dcc3",
   "metadata": {},
   "outputs": [],
   "source": [
    "indices_ppp = indices[mask_ppp]\n",
    "indices_ppm = indices[mask_ppm]\n",
    "indices_pmp = indices[mask_pmp]\n",
    "indices_pmm = indices[mask_pmm]\n",
    "indices_mpp = indices[mask_mpp]\n",
    "indices_mpm = indices[mask_mpm]\n",
    "indices_mmp = indices[mask_mmp]\n",
    "indices_mmm = indices[mask_mmm]"
   ]
  },
  {
   "cell_type": "code",
   "execution_count": 93,
   "id": "0ef5e37c",
   "metadata": {},
   "outputs": [
    {
     "data": {
      "text/plain": [
       "(array([ 5, 14]),\n",
       " array([ 8, 23, 24, 26]),\n",
       " array([ 6,  7, 16, 17, 25, 28, 30]),\n",
       " array([], dtype=int64),\n",
       " array([], dtype=int64),\n",
       " array([], dtype=int64),\n",
       " array([], dtype=int64),\n",
       " array([], dtype=int64))"
      ]
     },
     "execution_count": 93,
     "metadata": {},
     "output_type": "execute_result"
    }
   ],
   "source": [
    "indices_ppp, indices_ppm, indices_pmp, indices_pmm, indices_mpp, indices_mpm, indices_mmp, indices_mmm"
   ]
  },
  {
   "cell_type": "code",
   "execution_count": 94,
   "id": "c6e359a3",
   "metadata": {},
   "outputs": [],
   "source": [
    "tree_s1[current_node_id] = s1_idx\n",
    "tree_s2[current_node_id] = s2_idx"
   ]
  },
  {
   "cell_type": "code",
   "execution_count": 95,
   "id": "a9454602",
   "metadata": {},
   "outputs": [],
   "source": [
    "id_ppp = node_counter\n",
    "id_ppm = node_counter + 1\n",
    "id_pmp = node_counter + 2\n",
    "id_pmm = node_counter + 3\n",
    "id_mpp = node_counter + 4\n",
    "id_mpm = node_counter + 5\n",
    "id_mmp = node_counter + 6\n",
    "id_mmm = node_counter + 7\n",
    "node_counter += 8"
   ]
  },
  {
   "cell_type": "code",
   "execution_count": 96,
   "id": "cf7ee54c",
   "metadata": {},
   "outputs": [],
   "source": [
    "tree_ppp[current_node_id] = id_ppp\n",
    "tree_ppm[current_node_id] = id_ppm\n",
    "tree_pmp[current_node_id] = id_pmp\n",
    "tree_pmm[current_node_id] = id_pmm\n",
    "tree_mpp[current_node_id] = id_mpp\n",
    "tree_mpm[current_node_id] = id_mpm\n",
    "tree_mmp[current_node_id] = id_mmp\n",
    "tree_mmm[current_node_id] = id_mmm"
   ]
  },
  {
   "cell_type": "code",
   "execution_count": 97,
   "id": "f44df313",
   "metadata": {},
   "outputs": [],
   "source": [
    "queue.append((id_ppp, indices_ppp))\n",
    "queue.append((id_ppm, indices_ppm))\n",
    "queue.append((id_pmp, indices_pmp))\n",
    "queue.append((id_pmm, indices_pmm))\n",
    "queue.append((id_mpp, indices_mpp))\n",
    "queue.append((id_mpm, indices_mpm))\n",
    "queue.append((id_mmp, indices_mmp))\n",
    "queue.append((id_mmm, indices_mmm))"
   ]
  },
  {
   "cell_type": "code",
   "execution_count": 98,
   "id": "e37cf93f",
   "metadata": {},
   "outputs": [
    {
     "data": {
      "text/plain": [
       "[(3, array([], dtype=int64)),\n",
       " (4, array([], dtype=int64)),\n",
       " (5, array([], dtype=int64)),\n",
       " (6, array([], dtype=int64)),\n",
       " (7, array([ 1,  2, 20])),\n",
       " (8, array([], dtype=int64)),\n",
       " (9, array([12, 13, 21, 22, 29, 31])),\n",
       " (10, array([ 0,  3,  4, 18, 27])),\n",
       " (11, array([], dtype=int64)),\n",
       " (12, array([], dtype=int64)),\n",
       " (13, array([], dtype=int64)),\n",
       " (14, array([], dtype=int64)),\n",
       " (15, array([ 9, 10, 11, 15, 19])),\n",
       " (16, array([], dtype=int64)),\n",
       " (17, array([ 5, 14])),\n",
       " (18, array([ 8, 23, 24, 26])),\n",
       " (19, array([ 6,  7, 16, 17, 25, 28, 30])),\n",
       " (20, array([], dtype=int64)),\n",
       " (21, array([], dtype=int64)),\n",
       " (22, array([], dtype=int64)),\n",
       " (23, array([], dtype=int64)),\n",
       " (24, array([], dtype=int64))]"
      ]
     },
     "execution_count": 98,
     "metadata": {},
     "output_type": "execute_result"
    }
   ],
   "source": [
    "queue"
   ]
  },
  {
   "cell_type": "markdown",
   "id": "d14897fc",
   "metadata": {},
   "source": [
    "### node 3\n"
   ]
  },
  {
   "cell_type": "code",
   "execution_count": 99,
   "id": "512676a3",
   "metadata": {},
   "outputs": [],
   "source": [
    "current_node_id, indices = queue.pop(0)"
   ]
  },
  {
   "cell_type": "code",
   "execution_count": 100,
   "id": "2f950b4f",
   "metadata": {},
   "outputs": [
    {
     "data": {
      "text/plain": [
       "(3, array([], dtype=int64))"
      ]
     },
     "execution_count": 100,
     "metadata": {},
     "output_type": "execute_result"
    }
   ],
   "source": [
    "current_node_id, indices"
   ]
  },
  {
   "cell_type": "code",
   "execution_count": 102,
   "id": "d709f2ac",
   "metadata": {},
   "outputs": [],
   "source": [
    "# end as empty leaf\n",
    "if len(indices) == 0:\n",
    "    pass"
   ]
  },
  {
   "cell_type": "markdown",
   "id": "3f3d8834",
   "metadata": {},
   "source": [
    "### node 4\n"
   ]
  },
  {
   "cell_type": "code",
   "execution_count": 103,
   "id": "4b65741d",
   "metadata": {},
   "outputs": [],
   "source": [
    "current_node_id, indices = queue.pop(0)"
   ]
  },
  {
   "cell_type": "code",
   "execution_count": 104,
   "id": "6f293ff8",
   "metadata": {},
   "outputs": [
    {
     "data": {
      "text/plain": [
       "(4, array([], dtype=int64))"
      ]
     },
     "execution_count": 104,
     "metadata": {},
     "output_type": "execute_result"
    }
   ],
   "source": [
    "current_node_id, indices"
   ]
  },
  {
   "cell_type": "code",
   "execution_count": 106,
   "id": "f8ab714c",
   "metadata": {},
   "outputs": [],
   "source": [
    "# end as empty leaf\n",
    "if len(indices) == 0:\n",
    "    pass"
   ]
  },
  {
   "cell_type": "markdown",
   "id": "4cc21a7f",
   "metadata": {},
   "source": [
    "### node 5\n"
   ]
  },
  {
   "cell_type": "code",
   "execution_count": null,
   "id": "ebada795",
   "metadata": {},
   "outputs": [],
   "source": []
  },
  {
   "cell_type": "code",
   "execution_count": null,
   "id": "ba9aff73",
   "metadata": {},
   "outputs": [],
   "source": [
    "current_node_id, indices = queue.pop(0)"
   ]
  },
  {
   "cell_type": "code",
   "execution_count": null,
   "id": "15fd8321",
   "metadata": {},
   "outputs": [
    {
     "data": {
      "text/plain": [
       "(2, array([ 5,  6,  7,  8, 14, 16, 17, 23, 24, 25, 26, 28, 30]))"
      ]
     },
     "metadata": {},
     "output_type": "display_data"
    }
   ],
   "source": [
    "current_node_id, indices"
   ]
  },
  {
   "cell_type": "code",
   "execution_count": null,
   "id": "05dd32a3",
   "metadata": {},
   "outputs": [],
   "source": [
    "# end as empty leaf\n",
    "if len(indices) == 0:\n",
    "    pass"
   ]
  },
  {
   "cell_type": "code",
   "execution_count": null,
   "id": "5ae92453",
   "metadata": {},
   "outputs": [],
   "source": [
    "# end as a leaf\n",
    "if len(indices) == 1:\n",
    "    leaf_value[current_node_id] = indices[0]"
   ]
  },
  {
   "cell_type": "code",
   "execution_count": null,
   "id": "3f5b2d05",
   "metadata": {},
   "outputs": [],
   "source": [
    "s1_idx, s2_idx = np.random.choice(indices, 2, replace=False)\n",
    "s1, s2 = strings[s1_idx], strings[s2_idx]"
   ]
  },
  {
   "cell_type": "code",
   "execution_count": null,
   "id": "ea60ff71",
   "metadata": {},
   "outputs": [
    {
     "data": {
      "text/plain": [
       "('ACBC', 'ABC')"
      ]
     },
     "metadata": {},
     "output_type": "display_data"
    }
   ],
   "source": [
    "s1, s2"
   ]
  },
  {
   "cell_type": "code",
   "execution_count": null,
   "id": "1cfff531",
   "metadata": {},
   "outputs": [],
   "source": [
    "mask_ppp = np.full(len(indices), False, dtype=bool)\n",
    "mask_ppm = np.full(len(indices), False, dtype=bool)\n",
    "mask_pmp = np.full(len(indices), False, dtype=bool)\n",
    "mask_pmm = np.full(len(indices), False, dtype=bool)\n",
    "mask_mpp = np.full(len(indices), False, dtype=bool)\n",
    "mask_mpm = np.full(len(indices), False, dtype=bool)\n",
    "mask_mmp = np.full(len(indices), False, dtype=bool)\n",
    "mask_mmm = np.full(len(indices), False, dtype=bool)"
   ]
  },
  {
   "cell_type": "code",
   "execution_count": null,
   "id": "789d2833",
   "metadata": {},
   "outputs": [],
   "source": [
    "for j, idx in enumerate(indices):\n",
    "    each_string = strings[idx]\n",
    "    (a1, a2, a3) = Levenshtein_dist_vector(each_string, s1)\n",
    "    (b1, b2, b3) = Levenshtein_dist_vector(each_string, s2)\n",
    "    # split into 8 parts\n",
    "    if a1>=b1 and a2>=b2 and a3>=b3:  # +++\n",
    "        mask_ppp[j] = True  # go tree_ppp\n",
    "    elif a1>=b1 and a2>=b2 and a3<b3:  # ++-\n",
    "        mask_ppm[j] = True  # go tree_ppm\n",
    "    elif a1>=b1 and a2<b2 and a3>=b3:  # +-+\n",
    "        mask_pmp[j] = True  # go tree_pmp\n",
    "    elif a1>=b1 and a2<b2 and a3<b3:  # +--\n",
    "        mask_pmm[j] = True  # go tree_pmm\n",
    "    elif a1<b1 and a2>=b2 and a3>=b3:  # -++\n",
    "        mask_mpp[j] = True  # go tree_mpp\n",
    "    elif a1<b1 and a2>=b2 and a3<b3:  # -+-\n",
    "        mask_mpm[j] = True  # go tree_mpm\n",
    "    elif a1<b1 and a2<b2 and a3>=b3:  # --+\n",
    "        mask_mmp[j] = True  # go tree_mmp\n",
    "    else:  # ---\n",
    "        mask_mmm[j] = True  # go tree_mmm"
   ]
  },
  {
   "cell_type": "code",
   "execution_count": null,
   "id": "0f0dda06",
   "metadata": {},
   "outputs": [
    {
     "data": {
      "text/plain": [
       "array([ True, False, False, False,  True, False, False, False, False,\n",
       "       False, False, False, False])"
      ]
     },
     "metadata": {},
     "output_type": "display_data"
    }
   ],
   "source": [
    "mask_ppp"
   ]
  },
  {
   "cell_type": "code",
   "execution_count": null,
   "id": "f5dfe27b",
   "metadata": {},
   "outputs": [],
   "source": [
    "indices_ppp = indices[mask_ppp]\n",
    "indices_ppm = indices[mask_ppm]\n",
    "indices_pmp = indices[mask_pmp]\n",
    "indices_pmm = indices[mask_pmm]\n",
    "indices_mpp = indices[mask_mpp]\n",
    "indices_mpm = indices[mask_mpm]\n",
    "indices_mmp = indices[mask_mmp]\n",
    "indices_mmm = indices[mask_mmm]"
   ]
  },
  {
   "cell_type": "code",
   "execution_count": null,
   "id": "ea8c6d14",
   "metadata": {},
   "outputs": [
    {
     "data": {
      "text/plain": [
       "(array([ 5, 14]),\n",
       " array([ 8, 23, 24, 26]),\n",
       " array([ 6,  7, 16, 17, 25, 28, 30]),\n",
       " array([], dtype=int64),\n",
       " array([], dtype=int64),\n",
       " array([], dtype=int64),\n",
       " array([], dtype=int64),\n",
       " array([], dtype=int64))"
      ]
     },
     "metadata": {},
     "output_type": "display_data"
    }
   ],
   "source": [
    "indices_ppp, indices_ppm, indices_pmp, indices_pmm, indices_mpp, indices_mpm, indices_mmp, indices_mmm"
   ]
  },
  {
   "cell_type": "code",
   "execution_count": null,
   "id": "21994a83",
   "metadata": {},
   "outputs": [],
   "source": [
    "tree_s1[current_node_id] = s1_idx\n",
    "tree_s2[current_node_id] = s2_idx"
   ]
  },
  {
   "cell_type": "code",
   "execution_count": null,
   "id": "e5dc49a9",
   "metadata": {},
   "outputs": [],
   "source": [
    "id_ppp = node_counter\n",
    "id_ppm = node_counter + 1\n",
    "id_pmp = node_counter + 2\n",
    "id_pmm = node_counter + 3\n",
    "id_mpp = node_counter + 4\n",
    "id_mpm = node_counter + 5\n",
    "id_mmp = node_counter + 6\n",
    "id_mmm = node_counter + 7\n",
    "node_counter += 8"
   ]
  },
  {
   "cell_type": "code",
   "execution_count": null,
   "id": "efea87c6",
   "metadata": {},
   "outputs": [],
   "source": [
    "tree_ppp[current_node_id] = id_ppp\n",
    "tree_ppm[current_node_id] = id_ppm\n",
    "tree_pmp[current_node_id] = id_pmp\n",
    "tree_pmm[current_node_id] = id_pmm\n",
    "tree_mpp[current_node_id] = id_mpp\n",
    "tree_mpm[current_node_id] = id_mpm\n",
    "tree_mmp[current_node_id] = id_mmp\n",
    "tree_mmm[current_node_id] = id_mmm"
   ]
  },
  {
   "cell_type": "code",
   "execution_count": null,
   "id": "96084c9e",
   "metadata": {},
   "outputs": [],
   "source": [
    "queue.append((id_ppp, indices_ppp))\n",
    "queue.append((id_ppm, indices_ppm))\n",
    "queue.append((id_pmp, indices_pmp))\n",
    "queue.append((id_pmm, indices_pmm))\n",
    "queue.append((id_mpp, indices_mpp))\n",
    "queue.append((id_mpm, indices_mpm))\n",
    "queue.append((id_mmp, indices_mmp))\n",
    "queue.append((id_mmm, indices_mmm))"
   ]
  },
  {
   "cell_type": "code",
   "execution_count": null,
   "id": "e5a825e0",
   "metadata": {},
   "outputs": [
    {
     "data": {
      "text/plain": [
       "[(3, array([], dtype=int64)),\n",
       " (4, array([], dtype=int64)),\n",
       " (5, array([], dtype=int64)),\n",
       " (6, array([], dtype=int64)),\n",
       " (7, array([ 1,  2, 20])),\n",
       " (8, array([], dtype=int64)),\n",
       " (9, array([12, 13, 21, 22, 29, 31])),\n",
       " (10, array([ 0,  3,  4, 18, 27])),\n",
       " (11, array([], dtype=int64)),\n",
       " (12, array([], dtype=int64)),\n",
       " (13, array([], dtype=int64)),\n",
       " (14, array([], dtype=int64)),\n",
       " (15, array([ 9, 10, 11, 15, 19])),\n",
       " (16, array([], dtype=int64)),\n",
       " (17, array([ 5, 14])),\n",
       " (18, array([ 8, 23, 24, 26])),\n",
       " (19, array([ 6,  7, 16, 17, 25, 28, 30])),\n",
       " (20, array([], dtype=int64)),\n",
       " (21, array([], dtype=int64)),\n",
       " (22, array([], dtype=int64)),\n",
       " (23, array([], dtype=int64)),\n",
       " (24, array([], dtype=int64))]"
      ]
     },
     "metadata": {},
     "output_type": "display_data"
    }
   ],
   "source": [
    "queue"
   ]
  }
 ],
 "metadata": {
  "kernelspec": {
   "display_name": "venv_ANN_Leven",
   "language": "python",
   "name": "python3"
  },
  "language_info": {
   "codemirror_mode": {
    "name": "ipython",
    "version": 3
   },
   "file_extension": ".py",
   "mimetype": "text/x-python",
   "name": "python",
   "nbconvert_exporter": "python",
   "pygments_lexer": "ipython3",
   "version": "3.12.9"
  }
 },
 "nbformat": 4,
 "nbformat_minor": 5
}

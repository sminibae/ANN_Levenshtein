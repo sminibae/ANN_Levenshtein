{
 "cells": [
  {
   "cell_type": "markdown",
   "metadata": {},
   "source": [
    "# Imports\n"
   ]
  },
  {
   "cell_type": "code",
   "execution_count": 6,
   "metadata": {},
   "outputs": [],
   "source": [
    "import numpy as np\n",
    "import pandas as pd \n",
    "\n",
    "import matplotlib.pyplot as plt\n",
    "import seaborn as sns\n",
    "\n",
    "import pickle\n",
    "import random\n",
    "import sys\n",
    "import os\n",
    "import re\n",
    "\n",
    "\n",
    "from ANN_Levenshtein import LevenshteinIndex"
   ]
  },
  {
   "cell_type": "markdown",
   "metadata": {},
   "source": [
    "# Load Data\n"
   ]
  },
  {
   "cell_type": "code",
   "execution_count": null,
   "metadata": {},
   "outputs": [],
   "source": [
    "data = pd.read_csv('Data/IMK품목마스터.txt', delimiter='\\t', dtype=str)\n",
    "data.head(2)"
   ]
  },
  {
   "cell_type": "code",
   "execution_count": 25,
   "metadata": {},
   "outputs": [
    {
     "data": {
      "text/plain": [
       "(2538466, 13)"
      ]
     },
     "execution_count": 25,
     "metadata": {},
     "output_type": "execute_result"
    }
   ],
   "source": [
    "data.shape"
   ]
  },
  {
   "cell_type": "code",
   "execution_count": 26,
   "metadata": {},
   "outputs": [],
   "source": [
    "data['description'] = data[['영문품명', '한글품명', '규격', '모델명', '제조원명']].astype(str).agg(\" \".join, axis=1)\n",
    "data['label'] = data['품목코드']"
   ]
  },
  {
   "cell_type": "code",
   "execution_count": 27,
   "metadata": {},
   "outputs": [],
   "source": [
    "data = data[['label', 'description']]"
   ]
  },
  {
   "cell_type": "markdown",
   "metadata": {},
   "source": [
    "# Preprocess\n"
   ]
  },
  {
   "cell_type": "code",
   "execution_count": 28,
   "metadata": {},
   "outputs": [
    {
     "name": "stderr",
     "output_type": "stream",
     "text": [
      "<>:28: SyntaxWarning: invalid escape sequence '\\s'\n",
      "<>:28: SyntaxWarning: invalid escape sequence '\\s'\n",
      "<>:28: SyntaxWarning: invalid escape sequence '\\s'\n",
      "<>:28: SyntaxWarning: invalid escape sequence '\\s'\n",
      "<>:28: SyntaxWarning: invalid escape sequence '\\s'\n",
      "<>:29: SyntaxWarning: invalid escape sequence '\\s'\n",
      "<>:29: SyntaxWarning: invalid escape sequence '\\s'\n",
      "<>:29: SyntaxWarning: invalid escape sequence '\\s'\n",
      "<>:30: SyntaxWarning: invalid escape sequence '\\s'\n",
      "<>:30: SyntaxWarning: invalid escape sequence '\\s'\n",
      "<>:30: SyntaxWarning: invalid escape sequence '\\s'\n",
      "<>:30: SyntaxWarning: invalid escape sequence '\\s'\n",
      "<>:30: SyntaxWarning: invalid escape sequence '\\s'\n",
      "<>:30: SyntaxWarning: invalid escape sequence '\\s'\n",
      "<>:31: SyntaxWarning: invalid escape sequence '\\s'\n",
      "<>:31: SyntaxWarning: invalid escape sequence '\\s'\n",
      "<>:31: SyntaxWarning: invalid escape sequence '\\s'\n",
      "<>:32: SyntaxWarning: invalid escape sequence '\\d'\n",
      "<>:32: SyntaxWarning: invalid escape sequence '\\s'\n",
      "<>:33: SyntaxWarning: invalid escape sequence '\\s'\n",
      "<>:33: SyntaxWarning: invalid escape sequence '\\s'\n",
      "<>:33: SyntaxWarning: invalid escape sequence '\\s'\n",
      "<>:28: SyntaxWarning: invalid escape sequence '\\s'\n",
      "<>:28: SyntaxWarning: invalid escape sequence '\\s'\n",
      "<>:28: SyntaxWarning: invalid escape sequence '\\s'\n",
      "<>:28: SyntaxWarning: invalid escape sequence '\\s'\n",
      "<>:28: SyntaxWarning: invalid escape sequence '\\s'\n",
      "<>:29: SyntaxWarning: invalid escape sequence '\\s'\n",
      "<>:29: SyntaxWarning: invalid escape sequence '\\s'\n",
      "<>:29: SyntaxWarning: invalid escape sequence '\\s'\n",
      "<>:30: SyntaxWarning: invalid escape sequence '\\s'\n",
      "<>:30: SyntaxWarning: invalid escape sequence '\\s'\n",
      "<>:30: SyntaxWarning: invalid escape sequence '\\s'\n",
      "<>:30: SyntaxWarning: invalid escape sequence '\\s'\n",
      "<>:30: SyntaxWarning: invalid escape sequence '\\s'\n",
      "<>:30: SyntaxWarning: invalid escape sequence '\\s'\n",
      "<>:31: SyntaxWarning: invalid escape sequence '\\s'\n",
      "<>:31: SyntaxWarning: invalid escape sequence '\\s'\n",
      "<>:31: SyntaxWarning: invalid escape sequence '\\s'\n",
      "<>:32: SyntaxWarning: invalid escape sequence '\\d'\n",
      "<>:32: SyntaxWarning: invalid escape sequence '\\s'\n",
      "<>:33: SyntaxWarning: invalid escape sequence '\\s'\n",
      "<>:33: SyntaxWarning: invalid escape sequence '\\s'\n",
      "<>:33: SyntaxWarning: invalid escape sequence '\\s'\n",
      "C:\\Users\\user\\AppData\\Local\\Temp\\ipykernel_24852\\378415355.py:28: SyntaxWarning: invalid escape sequence '\\s'\n",
      "  '세부구성 이미지\\s?참고','첨부\\s?이미지\\s?참고','이미지\\s?참조','요청사항\\s?참조','명판\\s?참조','물류이용불가 품목',\n",
      "C:\\Users\\user\\AppData\\Local\\Temp\\ipykernel_24852\\378415355.py:28: SyntaxWarning: invalid escape sequence '\\s'\n",
      "  '세부구성 이미지\\s?참고','첨부\\s?이미지\\s?참고','이미지\\s?참조','요청사항\\s?참조','명판\\s?참조','물류이용불가 품목',\n",
      "C:\\Users\\user\\AppData\\Local\\Temp\\ipykernel_24852\\378415355.py:28: SyntaxWarning: invalid escape sequence '\\s'\n",
      "  '세부구성 이미지\\s?참고','첨부\\s?이미지\\s?참고','이미지\\s?참조','요청사항\\s?참조','명판\\s?참조','물류이용불가 품목',\n",
      "C:\\Users\\user\\AppData\\Local\\Temp\\ipykernel_24852\\378415355.py:28: SyntaxWarning: invalid escape sequence '\\s'\n",
      "  '세부구성 이미지\\s?참고','첨부\\s?이미지\\s?참고','이미지\\s?참조','요청사항\\s?참조','명판\\s?참조','물류이용불가 품목',\n",
      "C:\\Users\\user\\AppData\\Local\\Temp\\ipykernel_24852\\378415355.py:28: SyntaxWarning: invalid escape sequence '\\s'\n",
      "  '세부구성 이미지\\s?참고','첨부\\s?이미지\\s?참고','이미지\\s?참조','요청사항\\s?참조','명판\\s?참조','물류이용불가 품목',\n",
      "C:\\Users\\user\\AppData\\Local\\Temp\\ipykernel_24852\\378415355.py:29: SyntaxWarning: invalid escape sequence '\\s'\n",
      "  '일반화물택배발송','주문수입품목으로 교환\\s?반품\\s?불가','주문제작품으로 교환\\s?반품\\s?불가','교환 및 반품\\s?불가',\n",
      "C:\\Users\\user\\AppData\\Local\\Temp\\ipykernel_24852\\378415355.py:29: SyntaxWarning: invalid escape sequence '\\s'\n",
      "  '일반화물택배발송','주문수입품목으로 교환\\s?반품\\s?불가','주문제작품으로 교환\\s?반품\\s?불가','교환 및 반품\\s?불가',\n",
      "C:\\Users\\user\\AppData\\Local\\Temp\\ipykernel_24852\\378415355.py:29: SyntaxWarning: invalid escape sequence '\\s'\n",
      "  '일반화물택배발송','주문수입품목으로 교환\\s?반품\\s?불가','주문제작품으로 교환\\s?반품\\s?불가','교환 및 반품\\s?불가',\n",
      "C:\\Users\\user\\AppData\\Local\\Temp\\ipykernel_24852\\378415355.py:30: SyntaxWarning: invalid escape sequence '\\s'\n",
      "  '규격\\s?참조','첨부\\s?참조','규격\\s?참고','도면\\s?참조','사양서\\s?참조','주문시\\s?사이즈\\s?기재','추가발주불가',\n",
      "C:\\Users\\user\\AppData\\Local\\Temp\\ipykernel_24852\\378415355.py:30: SyntaxWarning: invalid escape sequence '\\s'\n",
      "  '규격\\s?참조','첨부\\s?참조','규격\\s?참고','도면\\s?참조','사양서\\s?참조','주문시\\s?사이즈\\s?기재','추가발주불가',\n",
      "C:\\Users\\user\\AppData\\Local\\Temp\\ipykernel_24852\\378415355.py:30: SyntaxWarning: invalid escape sequence '\\s'\n",
      "  '규격\\s?참조','첨부\\s?참조','규격\\s?참고','도면\\s?참조','사양서\\s?참조','주문시\\s?사이즈\\s?기재','추가발주불가',\n",
      "C:\\Users\\user\\AppData\\Local\\Temp\\ipykernel_24852\\378415355.py:30: SyntaxWarning: invalid escape sequence '\\s'\n",
      "  '규격\\s?참조','첨부\\s?참조','규격\\s?참고','도면\\s?참조','사양서\\s?참조','주문시\\s?사이즈\\s?기재','추가발주불가',\n",
      "C:\\Users\\user\\AppData\\Local\\Temp\\ipykernel_24852\\378415355.py:30: SyntaxWarning: invalid escape sequence '\\s'\n",
      "  '규격\\s?참조','첨부\\s?참조','규격\\s?참고','도면\\s?참조','사양서\\s?참조','주문시\\s?사이즈\\s?기재','추가발주불가',\n",
      "C:\\Users\\user\\AppData\\Local\\Temp\\ipykernel_24852\\378415355.py:30: SyntaxWarning: invalid escape sequence '\\s'\n",
      "  '규격\\s?참조','첨부\\s?참조','규격\\s?참고','도면\\s?참조','사양서\\s?참조','주문시\\s?사이즈\\s?기재','추가발주불가',\n",
      "C:\\Users\\user\\AppData\\Local\\Temp\\ipykernel_24852\\378415355.py:31: SyntaxWarning: invalid escape sequence '\\s'\n",
      "  '재고\\s?문의\\s?주세요','주문전\\s?재고\\s?확인\\s?바랍니다','첨부파일 참조','참조s?제작s?할s?것','교환\\s?반품\\s?불가',\n",
      "C:\\Users\\user\\AppData\\Local\\Temp\\ipykernel_24852\\378415355.py:31: SyntaxWarning: invalid escape sequence '\\s'\n",
      "  '재고\\s?문의\\s?주세요','주문전\\s?재고\\s?확인\\s?바랍니다','첨부파일 참조','참조s?제작s?할s?것','교환\\s?반품\\s?불가',\n",
      "C:\\Users\\user\\AppData\\Local\\Temp\\ipykernel_24852\\378415355.py:31: SyntaxWarning: invalid escape sequence '\\s'\n",
      "  '재고\\s?문의\\s?주세요','주문전\\s?재고\\s?확인\\s?바랍니다','첨부파일 참조','참조s?제작s?할s?것','교환\\s?반품\\s?불가',\n",
      "C:\\Users\\user\\AppData\\Local\\Temp\\ipykernel_24852\\378415355.py:32: SyntaxWarning: invalid escape sequence '\\d'\n",
      "  '도면rev \\d+참조','도묜참조','구매\\s?시방서참조','구매시방참조','사진s?참고','사양서s?참고','사영서s?참고',\n",
      "C:\\Users\\user\\AppData\\Local\\Temp\\ipykernel_24852\\378415355.py:32: SyntaxWarning: invalid escape sequence '\\s'\n",
      "  '도면rev \\d+참조','도묜참조','구매\\s?시방서참조','구매시방참조','사진s?참고','사양서s?참고','사영서s?참고',\n",
      "C:\\Users\\user\\AppData\\Local\\Temp\\ipykernel_24852\\378415355.py:33: SyntaxWarning: invalid escape sequence '\\s'\n",
      "  '도면\\s?참고','사양\\s?참고','상세정보 첨부참고','상세정보\\s?참고','첨부 참고'\n",
      "C:\\Users\\user\\AppData\\Local\\Temp\\ipykernel_24852\\378415355.py:33: SyntaxWarning: invalid escape sequence '\\s'\n",
      "  '도면\\s?참고','사양\\s?참고','상세정보 첨부참고','상세정보\\s?참고','첨부 참고'\n",
      "C:\\Users\\user\\AppData\\Local\\Temp\\ipykernel_24852\\378415355.py:33: SyntaxWarning: invalid escape sequence '\\s'\n",
      "  '도면\\s?참고','사양\\s?참고','상세정보 첨부참고','상세정보\\s?참고','첨부 참고'\n"
     ]
    }
   ],
   "source": [
    "def preprocessing(text):\n",
    "    def remove_dup(t):\n",
    "        sp_str = t.split()\n",
    "        return \" \".join(sorted(set(sp_str), key=sp_str.index))\n",
    "\n",
    "    if not isinstance(text, str):\n",
    "        text = str(text)\n",
    "    \n",
    "    # text = text.lower()  # 소문자로 변환\n",
    "\n",
    "    # 패턴 제거: (주), (유)\n",
    "    text = re.sub(r'\\(주\\)|\\(유\\)', '', text)\n",
    "\n",
    "    # 특수문자 제거 (온점, 쉼표, 물결표 제외)\n",
    "    special_chars = r'[()\\[\\]/#φΦØø￠★@%※□:;\"＇，_\\-!&+=≥±`\\'\\\"←→↑↓↔↕\\\\\\^]'\n",
    "    text = re.sub(special_chars, ' ', text)\n",
    "\n",
    "    # 숫자 사이에 있는 .(소숫점 표시) ,(천의 자리 표시), ~(범위 표시)는 유지, 나머지 .,~ 삭제\n",
    "    text = re.sub(r'(?<!\\d)[.,~]|[.,~](?!\\d)', ' ', text)\n",
    "\n",
    "    # 숫자 사이의 ~만 유지\n",
    "    text = re.sub(r'\\s*~\\s*', '~', text)  # ~ 앞뒤의 공백 삭제 (ex. 10~100, 10 ~ 100 둘 다 가능하게)\n",
    "    text = re.sub(r'(?<!\\d)~|~(?!\\d)', ' ', text)  # ~ 앞뒤가 숫자가 아니면 삭제\n",
    "\n",
    "\n",
    "    # 불필요 문구 제거 (공통 패턴)\n",
    "    common_patterns = [\n",
    "        '세부구성 이미지\\s?참고','첨부\\s?이미지\\s?참고','이미지\\s?참조','요청사항\\s?참조','명판\\s?참조','물류이용불가 품목',\n",
    "        '일반화물택배발송','주문수입품목으로 교환\\s?반품\\s?불가','주문제작품으로 교환\\s?반품\\s?불가','교환 및 반품\\s?불가',\n",
    "        '규격\\s?참조','첨부\\s?참조','규격\\s?참고','도면\\s?참조','사양서\\s?참조','주문시\\s?사이즈\\s?기재','추가발주불가',\n",
    "        '재고\\s?문의\\s?주세요','주문전\\s?재고\\s?확인\\s?바랍니다','첨부파일 참조','참조s?제작s?할s?것','교환\\s?반품\\s?불가',\n",
    "        '도면rev \\d+참조','도묜참조','구매\\s?시방서참조','구매시방참조','사진s?참고','사양서s?참고','사영서s?참고',\n",
    "        '도면\\s?참고','사양\\s?참고','상세정보 첨부참고','상세정보\\s?참고','첨부 참고'\n",
    "    ]\n",
    "    text = re.sub(r'|'.join(common_patterns), \"\", text)\n",
    "    \n",
    "    # 재고 관련 문구 제거\n",
    "    inventory_patterns = [\n",
    "        r\"재고 없을\\s?시 \\d+일\\s?소요\", r\"재고 미보유시 \\d+일\\s?소요\", r'재고\\s?소진\\s?시 납기 \\d+일',\n",
    "        r'재고 소진\\s?시 공급\\s?불가', r'재고 소진\\s?시 납품\\s?불가', r'재고 소진\\s?시 공급\\s?불가\\s?상품',\n",
    "        r'재고 소진\\s?시 \\d+일 소요', r'국내 재고 소진\\s?시 납기 약\\s?\\d+개월 소요',\n",
    "        r'재고 소진\\s?시 표준납기\\s?\\d+일 소요', r'재고 소진\\s?시 최소주문수량 적용상품',\n",
    "        r'재고 없을\\s?때 \\d+일\\s?소요', r'재고 없을\\s?시 표준납기 \\d+일\\s?소요',\n",
    "        r'재고 없을\\s?시 제작\\s?납기 \\d+일\\s?소요', r'수입품목으로 재고 없을\\s?시 납기 \\d+\\s?\\d+일\\s?소요',\n",
    "        r'재고 미보유\\s?시 \\d+일 이상 소요', r'재고 미보유\\s?시 납기\\s?\\d+일',\n",
    "        r'재고\\s?소진\\s?시 발주\\s?취소 가능성', r'재고 보유\\s?시 \\d+일 소요',\n",
    "        r'재고s?소진 후 구매s?불가', r'재고 보유\\s?시 \\d+일\\s?이내',\n",
    "        r'재고 미보유\\s?시 표준납기 \\d+일\\s?소요'\n",
    "    ]\n",
    "    text = re.sub(r'|'.join(inventory_patterns), \"\", text)\n",
    "    \n",
    "    # 추가적 문구 제거\n",
    "    remove_terms = ['인쇄없음', '시중품', '주식회사', '유한회사']\n",
    "    text = re.sub(r'|'.join(remove_terms), \"\", text)\n",
    "\n",
    "    # 텍스트 치환\n",
    "    text = text.replace('nan', ' ')\n",
    "    text = text.replace('| ', ' ').replace(' |', ' ').replace('||', ' ')\n",
    "    text = re.sub(r'[xX×*＊]', 'x', text)  # 곱하기 기호 통일\n",
    "    text = text.replace('ℓ', 'l')  # 리터 기호 통일\n",
    "\n",
    "    # 한자 제거\n",
    "    text = re.sub(r'[\\u4E00-\\u9FFF]', '', text)\n",
    "\n",
    "    # 중복된 단어 제거\n",
    "    text = remove_dup(text)\n",
    "    \n",
    "    # 여러 공백을 하나의 공백으로 변환\n",
    "    text = re.sub(r'\\s+', ' ', text).strip()\n",
    "\n",
    "    return text"
   ]
  },
  {
   "cell_type": "code",
   "execution_count": 29,
   "metadata": {},
   "outputs": [],
   "source": [
    "data['description'] = data['description'].map(preprocessing)\n"
   ]
  },
  {
   "cell_type": "code",
   "execution_count": 30,
   "metadata": {},
   "outputs": [
    {
     "data": {
      "text/html": [
       "<div>\n",
       "<style scoped>\n",
       "    .dataframe tbody tr th:only-of-type {\n",
       "        vertical-align: middle;\n",
       "    }\n",
       "\n",
       "    .dataframe tbody tr th {\n",
       "        vertical-align: top;\n",
       "    }\n",
       "\n",
       "    .dataframe thead th {\n",
       "        text-align: right;\n",
       "    }\n",
       "</style>\n",
       "<table border=\"1\" class=\"dataframe\">\n",
       "  <thead>\n",
       "    <tr style=\"text-align: right;\">\n",
       "      <th></th>\n",
       "      <th>label</th>\n",
       "      <th>description</th>\n",
       "    </tr>\n",
       "  </thead>\n",
       "  <tbody>\n",
       "    <tr>\n",
       "      <th>0</th>\n",
       "      <td>1000000800</td>\n",
       "      <td>Fly Swatter 파리채 L520mm</td>\n",
       "    </tr>\n",
       "    <tr>\n",
       "      <th>1</th>\n",
       "      <td>1000002100</td>\n",
       "      <td>Insecticide 살충제 500ml 수성에어졸 무향 파리 모기등의살충제 안전기준...</td>\n",
       "    </tr>\n",
       "  </tbody>\n",
       "</table>\n",
       "</div>"
      ],
      "text/plain": [
       "        label                                        description\n",
       "0  1000000800                             Fly Swatter 파리채 L520mm\n",
       "1  1000002100  Insecticide 살충제 500ml 수성에어졸 무향 파리 모기등의살충제 안전기준..."
      ]
     },
     "execution_count": 30,
     "metadata": {},
     "output_type": "execute_result"
    }
   ],
   "source": [
    "data.head(2)"
   ]
  },
  {
   "cell_type": "code",
   "execution_count": 37,
   "metadata": {},
   "outputs": [],
   "source": [
    "data.to_csv('Data/IMK_master.txt', sep='\\t', index=False)"
   ]
  },
  {
   "cell_type": "code",
   "execution_count": 28,
   "metadata": {},
   "outputs": [],
   "source": [
    "strings = data['description'].astype(str)"
   ]
  },
  {
   "cell_type": "code",
   "execution_count": 32,
   "metadata": {},
   "outputs": [
    {
     "name": "stdout",
     "output_type": "stream",
     "text": [
      "[22, 60, 78, 62, 53, 30, 91, 187, 162, 55]\n"
     ]
    }
   ],
   "source": [
    "lengths = [len(string) for string in strings]\n",
    "print(lengths[:10])"
   ]
  },
  {
   "cell_type": "code",
   "execution_count": 40,
   "metadata": {},
   "outputs": [
    {
     "data": {
      "image/png": "[encoded data removed]",
      "text/plain": [
       "<Figure size 1000x600 with 1 Axes>"
      ]
     },
     "metadata": {},
     "output_type": "display_data"
    }
   ],
   "source": [
    "import matplotlib.pyplot as plt\n",
    "\n",
    "plt.figure(figsize=(10, 6))\n",
    "plt.hist(lengths, bins=75, edgecolor='black')\n",
    "# plt.title(\"Distribution of String Lengths in IMK master\")\n",
    "# plt.xlabel(\"String Length\")\n",
    "# plt.ylabel(\"Frequency\")\n",
    "plt.grid(True)\n",
    "plt.tight_layout()\n",
    "plt.show()"
   ]
  },
  {
   "cell_type": "code",
   "execution_count": 41,
   "metadata": {},
   "outputs": [
    {
     "data": {
      "text/plain": [
       "np.float64(48.339612978862036)"
      ]
     },
     "execution_count": 41,
     "metadata": {},
     "output_type": "execute_result"
    }
   ],
   "source": [
    "np.mean(lengths)"
   ]
  },
  {
   "cell_type": "markdown",
   "metadata": {},
   "source": [
    "# Build Index\n"
   ]
  },
  {
   "cell_type": "markdown",
   "metadata": {},
   "source": [
    "### tree_num=10\n"
   ]
  },
  {
   "cell_type": "code",
   "execution_count": 42,
   "metadata": {},
   "outputs": [],
   "source": [
    "data = pd.read_csv('Data/IMK_master.txt', delimiter='\\t', dtype=str)\n",
    "# data = pd.read_csv('Data/Random_strings_0.1K.txt', header=None)"
   ]
  },
  {
   "cell_type": "code",
   "execution_count": 43,
   "metadata": {},
   "outputs": [
    {
     "data": {
      "text/html": [
       "<div>\n",
       "<style scoped>\n",
       "    .dataframe tbody tr th:only-of-type {\n",
       "        vertical-align: middle;\n",
       "    }\n",
       "\n",
       "    .dataframe tbody tr th {\n",
       "        vertical-align: top;\n",
       "    }\n",
       "\n",
       "    .dataframe thead th {\n",
       "        text-align: right;\n",
       "    }\n",
       "</style>\n",
       "<table border=\"1\" class=\"dataframe\">\n",
       "  <thead>\n",
       "    <tr style=\"text-align: right;\">\n",
       "      <th></th>\n",
       "      <th>label</th>\n",
       "      <th>description</th>\n",
       "    </tr>\n",
       "  </thead>\n",
       "  <tbody>\n",
       "    <tr>\n",
       "      <th>0</th>\n",
       "      <td>1000000800</td>\n",
       "      <td>Fly Swatter 파리채 L520mm</td>\n",
       "    </tr>\n",
       "    <tr>\n",
       "      <th>1</th>\n",
       "      <td>1000002100</td>\n",
       "      <td>Insecticide 살충제 500ml 수성에어졸 무향 파리 모기등의살충제 안전기준...</td>\n",
       "    </tr>\n",
       "  </tbody>\n",
       "</table>\n",
       "</div>"
      ],
      "text/plain": [
       "        label                                        description\n",
       "0  1000000800                             Fly Swatter 파리채 L520mm\n",
       "1  1000002100  Insecticide 살충제 500ml 수성에어졸 무향 파리 모기등의살충제 안전기준..."
      ]
     },
     "execution_count": 43,
     "metadata": {},
     "output_type": "execute_result"
    }
   ],
   "source": [
    "data.head(2)"
   ]
  },
  {
   "cell_type": "code",
   "execution_count": 44,
   "metadata": {},
   "outputs": [
    {
     "name": "stdout",
     "output_type": "stream",
     "text": [
      "2538466\n"
     ]
    }
   ],
   "source": [
    "print(len(data))"
   ]
  },
  {
   "cell_type": "code",
   "execution_count": null,
   "metadata": {},
   "outputs": [
    {
     "name": "stdout",
     "output_type": "stream",
     "text": [
      "CPU times: total: 0 ns\n",
      "Wall time: 3.98 ms\n"
     ]
    }
   ],
   "source": [
    "%%time\n",
    "\n",
    "# Create and configure index\n",
    "leven_index = LevenshteinIndex(\n",
    "    num_trees=10,\n",
    "    num_strings=len(data),\n",
    "    split_num=200,\n",
    "    weights=(1, 1, 1)\n",
    ")\n",
    "\n",
    "\n",
    "#  80.2 ms for create index"
   ]
  },
  {
   "cell_type": "code",
   "execution_count": null,
   "metadata": {},
   "outputs": [
    {
     "name": "stdout",
     "output_type": "stream",
     "text": [
      "CPU times: total: 4.28 s\n",
      "Wall time: 4.32 s\n"
     ]
    }
   ],
   "source": [
    "%%time\n",
    "\n",
    "# Add strings in bulk\n",
    "leven_index.add_items_bulk(data['description'])\n",
    "\n",
    "# 4.26 s for len(data) = 2.5M"
   ]
  },
  {
   "cell_type": "code",
   "execution_count": null,
   "metadata": {},
   "outputs": [],
   "source": [
    "%%time\n",
    "\n",
    "# Build index\n",
    "leven_index.build()\n",
    "\n",
    "# for num_trees=10, len(data)~2.5M, split_num=200"
   ]
  },
  {
   "cell_type": "code",
   "execution_count": null,
   "metadata": {},
   "outputs": [],
   "source": [
    "%%time\n",
    "\n",
    "# save\n",
    "leven_index.save(\"Models/LevenshteinIndex_IMK_master_10tree.pkl\")"
   ]
  },
  {
   "cell_type": "code",
   "execution_count": null,
   "metadata": {},
   "outputs": [],
   "source": [
    "# leven_index = LevenshteinIndex(num_trees=1, num_strings=len(data), split_num=200)\n",
    "# leven_index.add_items_bulk(data['description'])\n",
    "# leven_index.load(\"Models/LevenshteinIndex_1tree_IMK_master.pkl\")"
   ]
  },
  {
   "cell_type": "code",
   "execution_count": null,
   "metadata": {},
   "outputs": [
    {
     "name": "stdout",
     "output_type": "stream",
     "text": [
      "Query: F Killer 에프킬라 500ml 킨 에스씨존슨코리아\n",
      "Top 5 nearest neighbors:\n",
      "5, F Killer 에프킬라 500ml 킨 에스씨존슨코리아\n",
      "761, F Killer 에프킬라 500ml 무향 에스씨존슨코리아\n",
      "174, 육각너트 SUS M27 반도호이스트크레인\n",
      "282, Spring Cleaner 스프링청소기 30M KSU30M 공성기계\n",
      "754, Complex Fertilizer 복합비료 동부화학\n"
     ]
    }
   ],
   "source": [
    "%%time\n",
    "\n",
    "# Query\n",
    "query = data['description'][5]\n",
    "neighbors = leven_index.get_nns_by_string(query, topk=5)\n",
    "\n",
    "print(\"Query:\", query)\n",
    "print(\"Top 5 nearest neighbors:\")\n",
    "for idx in neighbors:\n",
    "    if idx is not None:\n",
    "        print(f\"{idx}, {leven_index.get_strings()[idx]}\")"
   ]
  },
  {
   "cell_type": "markdown",
   "metadata": {},
   "source": [
    "### tree_num = 100\n"
   ]
  },
  {
   "cell_type": "code",
   "execution_count": null,
   "metadata": {},
   "outputs": [
    {
     "name": "stdout",
     "output_type": "stream",
     "text": [
      "CPU times: total: 0 ns\n",
      "Wall time: 3.98 ms\n"
     ]
    }
   ],
   "source": [
    "%%time\n",
    "\n",
    "# Create index \n",
    "leven_index = LevenshteinIndex(num_trees=100, num_strings=len(data), split_num=200, weights=(1,1,1))\n",
    "\n",
    "\n",
    "#  80.2 ms for create index"
   ]
  },
  {
   "cell_type": "code",
   "execution_count": null,
   "metadata": {},
   "outputs": [
    {
     "name": "stdout",
     "output_type": "stream",
     "text": [
      "CPU times: total: 4.28 s\n",
      "Wall time: 4.32 s\n"
     ]
    }
   ],
   "source": [
    "%%time\n",
    "\n",
    "# add data\n",
    "leven_index.add_items_bulk(data['description'])\n",
    "\n",
    "# 4.26 s for len(data) = 2.5M"
   ]
  },
  {
   "cell_type": "code",
   "execution_count": null,
   "metadata": {},
   "outputs": [],
   "source": [
    "%%time\n",
    "\n",
    "# build index\n",
    "leven_index.build()\n",
    "\n",
    "# for num_trees=10, len(data)~2.5M, split_num=200"
   ]
  },
  {
   "cell_type": "code",
   "execution_count": null,
   "metadata": {},
   "outputs": [],
   "source": [
    "%%time\n",
    "\n",
    "# save\n",
    "leven_index.save(\"Models/LevenshteinIndex_IMK_master_10tree.pkl\")"
   ]
  },
  {
   "cell_type": "code",
   "execution_count": null,
   "metadata": {},
   "outputs": [],
   "source": [
    "# leven_index = LevenshteinIndex(num_trees=1, num_strings=len(data), split_num=200)\n",
    "# leven_index.add_items_bulk(data['description'])\n",
    "# leven_index.load(\"Models/LevenshteinIndex_1tree_IMK_master.pkl\")"
   ]
  },
  {
   "cell_type": "code",
   "execution_count": null,
   "metadata": {},
   "outputs": [
    {
     "name": "stdout",
     "output_type": "stream",
     "text": [
      "Query: F Killer 에프킬라 500ml 킨 에스씨존슨코리아\n",
      "Top 5 nearest neighbors:\n",
      "5, F Killer 에프킬라 500ml 킨 에스씨존슨코리아\n",
      "761, F Killer 에프킬라 500ml 무향 에스씨존슨코리아\n",
      "174, 육각너트 SUS M27 반도호이스트크레인\n",
      "282, Spring Cleaner 스프링청소기 30M KSU30M 공성기계\n",
      "754, Complex Fertilizer 복합비료 동부화학\n"
     ]
    }
   ],
   "source": [
    "%%time\n",
    "\n",
    "# Query\n",
    "query = data['description'][5]\n",
    "neighbors = leven_index.get_nns_by_string(query, topk=5)\n",
    "\n",
    "print(\"Query:\", query)\n",
    "print(\"Top 5 nearest neighbors:\")\n",
    "for idx in neighbors:\n",
    "    print(f\"{idx}, {leven_index.get_strings()[idx]}\")"
   ]
  },
  {
   "cell_type": "markdown",
   "metadata": {},
   "source": [
    "# Search ALL\n"
   ]
  },
  {
   "cell_type": "code",
   "execution_count": null,
   "metadata": {},
   "outputs": [],
   "source": [
    "from rapidfuzz.distance import Levenshtein\n",
    "import unicodedata\n",
    "from rapidfuzz import fuzz\n",
    "# Hangul Decomposition function using unicodedata\n",
    "def decompose_hangul(text, *args, **kwargs):\n",
    "    decomposed = ''\n",
    "    for char in text:\n",
    "        if '가' <= char <= '힣':\n",
    "            # Hangul syllables range: decompose\n",
    "            decomposed += unicodedata.normalize('NFD', char)\n",
    "        else:\n",
    "            decomposed += char\n",
    "    return decomposed"
   ]
  },
  {
   "cell_type": "code",
   "execution_count": null,
   "metadata": {},
   "outputs": [
    {
     "name": "stdout",
     "output_type": "stream",
     "text": [
      "Query: F Killer 에프킬라 500ml 킨 에스씨존슨코리아\n",
      "Top 5 nearest neighbors:\n",
      "Index: 5, Distance: 0, Text: F Killer 에프킬라 500ml 킨 에스씨존슨코리아\n",
      "Index: 761, Distance: 5, Text: F Killer 에프킬라 500ml 무향 에스씨존슨코리아\n",
      "Index: 108, Distance: 36, Text: Set Collar 세트칼라 SSCSPJ30 12 MISUMI\n",
      "Index: 319, Distance: 36, Text: Ball Screw 성광테크 볼스크류\n",
      "Index: 542, Distance: 36, Text: Side Roller 사이드롤러 Peek 다일엔지니어링\n"
     ]
    }
   ],
   "source": [
    "%%time\n",
    "\n",
    "query = data['description'][5]\n",
    "\n",
    "# Add a new column with fuzz.ratio distances to the query string\n",
    "data['sim'] = data['description'].map(lambda x: fuzz.ratio(query, x, processor=decompose_hangul))\n",
    "\n",
    "\n",
    "# Sort and take top 5\n",
    "top5 = data.sort_values('sim', ascending=False).head(5)  # Higher ratio = more similar\n",
    "\n",
    "# Display\n",
    "print(\"Query:\", query)\n",
    "print(\"Top 5 nearest neighbors:\")\n",
    "for _, row in top5.iterrows():\n",
    "    print(f\"Index: {row.name}, Distance: {row['sim']}, Text: {row['description']}\")"
   ]
  },
  {
   "cell_type": "code",
   "execution_count": null,
   "metadata": {},
   "outputs": [],
   "source": [
    "%%time\n",
    "\n",
    "query = data['description'][5]\n",
    "\n",
    "# Add a new column with fuzz.ratio distances to the query string\n",
    "data['sim'] = data['description'].map(lambda x: Levenshtein.distance(query, x, processor=decompose_hangul))\n",
    "\n",
    "\n",
    "# Sort and take top 5\n",
    "top5 = data.sort_values('sim', ascending=False).head(5)  # Higher ratio = more similar\n",
    "\n",
    "# Display\n",
    "print(\"Query:\", query)\n",
    "print(\"Top 5 nearest neighbors:\")\n",
    "for _, row in top5.iterrows():\n",
    "    print(f\"Index: {row.name}, Distance: {row['sim']}, Text: {row['description']}\")"
   ]
  },
  {
   "cell_type": "code",
   "execution_count": null,
   "metadata": {},
   "outputs": [],
   "source": []
  }
 ],
 "metadata": {
  "kernelspec": {
   "display_name": "venv_ANN_Leven",
   "language": "python",
   "name": "python3"
  },
  "language_info": {
   "codemirror_mode": {
    "name": "ipython",
    "version": 3
   },
   "file_extension": ".py",
   "mimetype": "text/x-python",
   "name": "python",
   "nbconvert_exporter": "python",
   "pygments_lexer": "ipython3",
   "version": "3.12.9"
  }
 },
 "nbformat": 4,
 "nbformat_minor": 2
}

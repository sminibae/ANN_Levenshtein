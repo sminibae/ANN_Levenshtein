{
 "cells": [
  {
   "cell_type": "markdown",
   "metadata": {},
   "source": [
    "# Imports\n"
   ]
  },
  {
   "cell_type": "code",
   "execution_count": 1,
   "metadata": {},
   "outputs": [],
   "source": [
    "import numpy as np\n",
    "import pandas as pd \n",
    "\n",
    "import matplotlib.pyplot as plt\n",
    "import seaborn as sns\n",
    "\n",
    "import pickle\n",
    "import joblib\n",
    "import random\n",
    "import sys\n",
    "import os\n",
    "import re\n",
    "\n",
    "from rapidfuzz import fuzz\n",
    "from rapidfuzz.distance import Levenshtein\n",
    "import unicodedata\n",
    "\n",
    "from ann_levenshtein import LevenshteinIndex"
   ]
  },
  {
   "cell_type": "markdown",
   "metadata": {},
   "source": [
    "# Load Data\n"
   ]
  },
  {
   "cell_type": "code",
   "execution_count": 2,
   "metadata": {},
   "outputs": [
    {
     "data": {
      "text/html": [
       "<div>\n",
       "<style scoped>\n",
       "    .dataframe tbody tr th:only-of-type {\n",
       "        vertical-align: middle;\n",
       "    }\n",
       "\n",
       "    .dataframe tbody tr th {\n",
       "        vertical-align: top;\n",
       "    }\n",
       "\n",
       "    .dataframe thead th {\n",
       "        text-align: right;\n",
       "    }\n",
       "</style>\n",
       "<table border=\"1\" class=\"dataframe\">\n",
       "  <thead>\n",
       "    <tr style=\"text-align: right;\">\n",
       "      <th></th>\n",
       "      <th>품목코드</th>\n",
       "      <th>SG코드</th>\n",
       "      <th>SG명</th>\n",
       "      <th>담당자ID</th>\n",
       "      <th>분류체계코드</th>\n",
       "      <th>분류체계명</th>\n",
       "      <th>영문품명</th>\n",
       "      <th>한글품명</th>\n",
       "      <th>규격</th>\n",
       "      <th>모델명</th>\n",
       "      <th>제조원코드</th>\n",
       "      <th>제조원명</th>\n",
       "      <th>단위</th>\n",
       "    </tr>\n",
       "  </thead>\n",
       "  <tbody>\n",
       "    <tr>\n",
       "      <th>0</th>\n",
       "      <td>1000000800</td>\n",
       "      <td>SG30050</td>\n",
       "      <td>청소용품</td>\n",
       "      <td>Z0202542</td>\n",
       "      <td>C1076800</td>\n",
       "      <td>살충제</td>\n",
       "      <td>Fly Swatter</td>\n",
       "      <td>파리채</td>\n",
       "      <td>L520mm</td>\n",
       "      <td>NaN</td>\n",
       "      <td>80036596.0</td>\n",
       "      <td>시중품</td>\n",
       "      <td>PC</td>\n",
       "    </tr>\n",
       "    <tr>\n",
       "      <th>1</th>\n",
       "      <td>1000002100</td>\n",
       "      <td>SG30070</td>\n",
       "      <td>세제</td>\n",
       "      <td>Z0202542</td>\n",
       "      <td>C1076800</td>\n",
       "      <td>살충제</td>\n",
       "      <td>Insecticide</td>\n",
       "      <td>살충제</td>\n",
       "      <td>500ml, 수성에어졸, 무향, 파리/모기등의살충제, 안전기준 확인</td>\n",
       "      <td>홈키파</td>\n",
       "      <td>80031867.0</td>\n",
       "      <td>한국크로락스</td>\n",
       "      <td>PC</td>\n",
       "    </tr>\n",
       "  </tbody>\n",
       "</table>\n",
       "</div>"
      ],
      "text/plain": [
       "         품목코드     SG코드   SG명     담당자ID    분류체계코드 분류체계명         영문품명 한글품명  \\\n",
       "0  1000000800  SG30050  청소용품  Z0202542  C1076800   살충제  Fly Swatter  파리채   \n",
       "1  1000002100  SG30070    세제  Z0202542  C1076800   살충제  Insecticide  살충제   \n",
       "\n",
       "                                      규격  모델명       제조원코드    제조원명  단위  \n",
       "0                                 L520mm  NaN  80036596.0     시중품  PC  \n",
       "1  500ml, 수성에어졸, 무향, 파리/모기등의살충제, 안전기준 확인  홈키파  80031867.0  한국크로락스  PC  "
      ]
     },
     "execution_count": 2,
     "metadata": {},
     "output_type": "execute_result"
    }
   ],
   "source": [
    "data = pd.read_csv('Data/IMK품목마스터.txt', delimiter='\\t', dtype=str)\n",
    "data.head(2)"
   ]
  },
  {
   "cell_type": "code",
   "execution_count": 3,
   "metadata": {},
   "outputs": [
    {
     "data": {
      "text/plain": [
       "(2538466, 13)"
      ]
     },
     "execution_count": 3,
     "metadata": {},
     "output_type": "execute_result"
    }
   ],
   "source": [
    "data.shape"
   ]
  },
  {
   "cell_type": "code",
   "execution_count": 5,
   "metadata": {},
   "outputs": [],
   "source": [
    "# data['description'] = data[['영문품명', '한글품명', '규격', '모델명', '제조원명']].astype(str).agg(\" \".join, axis=1)\n",
    "data['description'] = data[['한글품명']].astype(str)\n",
    "data['label'] = data['품목코드']"
   ]
  },
  {
   "cell_type": "code",
   "execution_count": 6,
   "metadata": {},
   "outputs": [],
   "source": [
    "data = data[['label', 'description']]"
   ]
  },
  {
   "cell_type": "markdown",
   "metadata": {},
   "source": [
    "# Preprocess\n"
   ]
  },
  {
   "cell_type": "code",
   "execution_count": 7,
   "metadata": {},
   "outputs": [
    {
     "name": "stderr",
     "output_type": "stream",
     "text": [
      "<>:28: SyntaxWarning: invalid escape sequence '\\s'\n",
      "<>:28: SyntaxWarning: invalid escape sequence '\\s'\n",
      "<>:28: SyntaxWarning: invalid escape sequence '\\s'\n",
      "<>:28: SyntaxWarning: invalid escape sequence '\\s'\n",
      "<>:28: SyntaxWarning: invalid escape sequence '\\s'\n",
      "<>:29: SyntaxWarning: invalid escape sequence '\\s'\n",
      "<>:29: SyntaxWarning: invalid escape sequence '\\s'\n",
      "<>:29: SyntaxWarning: invalid escape sequence '\\s'\n",
      "<>:30: SyntaxWarning: invalid escape sequence '\\s'\n",
      "<>:30: SyntaxWarning: invalid escape sequence '\\s'\n",
      "<>:30: SyntaxWarning: invalid escape sequence '\\s'\n",
      "<>:30: SyntaxWarning: invalid escape sequence '\\s'\n",
      "<>:30: SyntaxWarning: invalid escape sequence '\\s'\n",
      "<>:30: SyntaxWarning: invalid escape sequence '\\s'\n",
      "<>:31: SyntaxWarning: invalid escape sequence '\\s'\n",
      "<>:31: SyntaxWarning: invalid escape sequence '\\s'\n",
      "<>:31: SyntaxWarning: invalid escape sequence '\\s'\n",
      "<>:32: SyntaxWarning: invalid escape sequence '\\d'\n",
      "<>:32: SyntaxWarning: invalid escape sequence '\\s'\n",
      "<>:33: SyntaxWarning: invalid escape sequence '\\s'\n",
      "<>:33: SyntaxWarning: invalid escape sequence '\\s'\n",
      "<>:33: SyntaxWarning: invalid escape sequence '\\s'\n",
      "<>:28: SyntaxWarning: invalid escape sequence '\\s'\n",
      "<>:28: SyntaxWarning: invalid escape sequence '\\s'\n",
      "<>:28: SyntaxWarning: invalid escape sequence '\\s'\n",
      "<>:28: SyntaxWarning: invalid escape sequence '\\s'\n",
      "<>:28: SyntaxWarning: invalid escape sequence '\\s'\n",
      "<>:29: SyntaxWarning: invalid escape sequence '\\s'\n",
      "<>:29: SyntaxWarning: invalid escape sequence '\\s'\n",
      "<>:29: SyntaxWarning: invalid escape sequence '\\s'\n",
      "<>:30: SyntaxWarning: invalid escape sequence '\\s'\n",
      "<>:30: SyntaxWarning: invalid escape sequence '\\s'\n",
      "<>:30: SyntaxWarning: invalid escape sequence '\\s'\n",
      "<>:30: SyntaxWarning: invalid escape sequence '\\s'\n",
      "<>:30: SyntaxWarning: invalid escape sequence '\\s'\n",
      "<>:30: SyntaxWarning: invalid escape sequence '\\s'\n",
      "<>:31: SyntaxWarning: invalid escape sequence '\\s'\n",
      "<>:31: SyntaxWarning: invalid escape sequence '\\s'\n",
      "<>:31: SyntaxWarning: invalid escape sequence '\\s'\n",
      "<>:32: SyntaxWarning: invalid escape sequence '\\d'\n",
      "<>:32: SyntaxWarning: invalid escape sequence '\\s'\n",
      "<>:33: SyntaxWarning: invalid escape sequence '\\s'\n",
      "<>:33: SyntaxWarning: invalid escape sequence '\\s'\n",
      "<>:33: SyntaxWarning: invalid escape sequence '\\s'\n",
      "C:\\Users\\user\\AppData\\Local\\Temp\\ipykernel_23312\\378415355.py:28: SyntaxWarning: invalid escape sequence '\\s'\n",
      "  '세부구성 이미지\\s?참고','첨부\\s?이미지\\s?참고','이미지\\s?참조','요청사항\\s?참조','명판\\s?참조','물류이용불가 품목',\n",
      "C:\\Users\\user\\AppData\\Local\\Temp\\ipykernel_23312\\378415355.py:28: SyntaxWarning: invalid escape sequence '\\s'\n",
      "  '세부구성 이미지\\s?참고','첨부\\s?이미지\\s?참고','이미지\\s?참조','요청사항\\s?참조','명판\\s?참조','물류이용불가 품목',\n",
      "C:\\Users\\user\\AppData\\Local\\Temp\\ipykernel_23312\\378415355.py:28: SyntaxWarning: invalid escape sequence '\\s'\n",
      "  '세부구성 이미지\\s?참고','첨부\\s?이미지\\s?참고','이미지\\s?참조','요청사항\\s?참조','명판\\s?참조','물류이용불가 품목',\n",
      "C:\\Users\\user\\AppData\\Local\\Temp\\ipykernel_23312\\378415355.py:28: SyntaxWarning: invalid escape sequence '\\s'\n",
      "  '세부구성 이미지\\s?참고','첨부\\s?이미지\\s?참고','이미지\\s?참조','요청사항\\s?참조','명판\\s?참조','물류이용불가 품목',\n",
      "C:\\Users\\user\\AppData\\Local\\Temp\\ipykernel_23312\\378415355.py:28: SyntaxWarning: invalid escape sequence '\\s'\n",
      "  '세부구성 이미지\\s?참고','첨부\\s?이미지\\s?참고','이미지\\s?참조','요청사항\\s?참조','명판\\s?참조','물류이용불가 품목',\n",
      "C:\\Users\\user\\AppData\\Local\\Temp\\ipykernel_23312\\378415355.py:29: SyntaxWarning: invalid escape sequence '\\s'\n",
      "  '일반화물택배발송','주문수입품목으로 교환\\s?반품\\s?불가','주문제작품으로 교환\\s?반품\\s?불가','교환 및 반품\\s?불가',\n",
      "C:\\Users\\user\\AppData\\Local\\Temp\\ipykernel_23312\\378415355.py:29: SyntaxWarning: invalid escape sequence '\\s'\n",
      "  '일반화물택배발송','주문수입품목으로 교환\\s?반품\\s?불가','주문제작품으로 교환\\s?반품\\s?불가','교환 및 반품\\s?불가',\n",
      "C:\\Users\\user\\AppData\\Local\\Temp\\ipykernel_23312\\378415355.py:29: SyntaxWarning: invalid escape sequence '\\s'\n",
      "  '일반화물택배발송','주문수입품목으로 교환\\s?반품\\s?불가','주문제작품으로 교환\\s?반품\\s?불가','교환 및 반품\\s?불가',\n",
      "C:\\Users\\user\\AppData\\Local\\Temp\\ipykernel_23312\\378415355.py:30: SyntaxWarning: invalid escape sequence '\\s'\n",
      "  '규격\\s?참조','첨부\\s?참조','규격\\s?참고','도면\\s?참조','사양서\\s?참조','주문시\\s?사이즈\\s?기재','추가발주불가',\n",
      "C:\\Users\\user\\AppData\\Local\\Temp\\ipykernel_23312\\378415355.py:30: SyntaxWarning: invalid escape sequence '\\s'\n",
      "  '규격\\s?참조','첨부\\s?참조','규격\\s?참고','도면\\s?참조','사양서\\s?참조','주문시\\s?사이즈\\s?기재','추가발주불가',\n",
      "C:\\Users\\user\\AppData\\Local\\Temp\\ipykernel_23312\\378415355.py:30: SyntaxWarning: invalid escape sequence '\\s'\n",
      "  '규격\\s?참조','첨부\\s?참조','규격\\s?참고','도면\\s?참조','사양서\\s?참조','주문시\\s?사이즈\\s?기재','추가발주불가',\n",
      "C:\\Users\\user\\AppData\\Local\\Temp\\ipykernel_23312\\378415355.py:30: SyntaxWarning: invalid escape sequence '\\s'\n",
      "  '규격\\s?참조','첨부\\s?참조','규격\\s?참고','도면\\s?참조','사양서\\s?참조','주문시\\s?사이즈\\s?기재','추가발주불가',\n",
      "C:\\Users\\user\\AppData\\Local\\Temp\\ipykernel_23312\\378415355.py:30: SyntaxWarning: invalid escape sequence '\\s'\n",
      "  '규격\\s?참조','첨부\\s?참조','규격\\s?참고','도면\\s?참조','사양서\\s?참조','주문시\\s?사이즈\\s?기재','추가발주불가',\n",
      "C:\\Users\\user\\AppData\\Local\\Temp\\ipykernel_23312\\378415355.py:30: SyntaxWarning: invalid escape sequence '\\s'\n",
      "  '규격\\s?참조','첨부\\s?참조','규격\\s?참고','도면\\s?참조','사양서\\s?참조','주문시\\s?사이즈\\s?기재','추가발주불가',\n",
      "C:\\Users\\user\\AppData\\Local\\Temp\\ipykernel_23312\\378415355.py:31: SyntaxWarning: invalid escape sequence '\\s'\n",
      "  '재고\\s?문의\\s?주세요','주문전\\s?재고\\s?확인\\s?바랍니다','첨부파일 참조','참조s?제작s?할s?것','교환\\s?반품\\s?불가',\n",
      "C:\\Users\\user\\AppData\\Local\\Temp\\ipykernel_23312\\378415355.py:31: SyntaxWarning: invalid escape sequence '\\s'\n",
      "  '재고\\s?문의\\s?주세요','주문전\\s?재고\\s?확인\\s?바랍니다','첨부파일 참조','참조s?제작s?할s?것','교환\\s?반품\\s?불가',\n",
      "C:\\Users\\user\\AppData\\Local\\Temp\\ipykernel_23312\\378415355.py:31: SyntaxWarning: invalid escape sequence '\\s'\n",
      "  '재고\\s?문의\\s?주세요','주문전\\s?재고\\s?확인\\s?바랍니다','첨부파일 참조','참조s?제작s?할s?것','교환\\s?반품\\s?불가',\n",
      "C:\\Users\\user\\AppData\\Local\\Temp\\ipykernel_23312\\378415355.py:32: SyntaxWarning: invalid escape sequence '\\d'\n",
      "  '도면rev \\d+참조','도묜참조','구매\\s?시방서참조','구매시방참조','사진s?참고','사양서s?참고','사영서s?참고',\n",
      "C:\\Users\\user\\AppData\\Local\\Temp\\ipykernel_23312\\378415355.py:32: SyntaxWarning: invalid escape sequence '\\s'\n",
      "  '도면rev \\d+참조','도묜참조','구매\\s?시방서참조','구매시방참조','사진s?참고','사양서s?참고','사영서s?참고',\n",
      "C:\\Users\\user\\AppData\\Local\\Temp\\ipykernel_23312\\378415355.py:33: SyntaxWarning: invalid escape sequence '\\s'\n",
      "  '도면\\s?참고','사양\\s?참고','상세정보 첨부참고','상세정보\\s?참고','첨부 참고'\n",
      "C:\\Users\\user\\AppData\\Local\\Temp\\ipykernel_23312\\378415355.py:33: SyntaxWarning: invalid escape sequence '\\s'\n",
      "  '도면\\s?참고','사양\\s?참고','상세정보 첨부참고','상세정보\\s?참고','첨부 참고'\n",
      "C:\\Users\\user\\AppData\\Local\\Temp\\ipykernel_23312\\378415355.py:33: SyntaxWarning: invalid escape sequence '\\s'\n",
      "  '도면\\s?참고','사양\\s?참고','상세정보 첨부참고','상세정보\\s?참고','첨부 참고'\n"
     ]
    }
   ],
   "source": [
    "def preprocessing(text):\n",
    "    def remove_dup(t):\n",
    "        sp_str = t.split()\n",
    "        return \" \".join(sorted(set(sp_str), key=sp_str.index))\n",
    "\n",
    "    if not isinstance(text, str):\n",
    "        text = str(text)\n",
    "    \n",
    "    # text = text.lower()  # 소문자로 변환\n",
    "\n",
    "    # 패턴 제거: (주), (유)\n",
    "    text = re.sub(r'\\(주\\)|\\(유\\)', '', text)\n",
    "\n",
    "    # 특수문자 제거 (온점, 쉼표, 물결표 제외)\n",
    "    special_chars = r'[()\\[\\]/#φΦØø￠★@%※□:;\"＇，_\\-!&+=≥±`\\'\\\"←→↑↓↔↕\\\\\\^]'\n",
    "    text = re.sub(special_chars, ' ', text)\n",
    "\n",
    "    # 숫자 사이에 있는 .(소숫점 표시) ,(천의 자리 표시), ~(범위 표시)는 유지, 나머지 .,~ 삭제\n",
    "    text = re.sub(r'(?<!\\d)[.,~]|[.,~](?!\\d)', ' ', text)\n",
    "\n",
    "    # 숫자 사이의 ~만 유지\n",
    "    text = re.sub(r'\\s*~\\s*', '~', text)  # ~ 앞뒤의 공백 삭제 (ex. 10~100, 10 ~ 100 둘 다 가능하게)\n",
    "    text = re.sub(r'(?<!\\d)~|~(?!\\d)', ' ', text)  # ~ 앞뒤가 숫자가 아니면 삭제\n",
    "\n",
    "\n",
    "    # 불필요 문구 제거 (공통 패턴)\n",
    "    common_patterns = [\n",
    "        '세부구성 이미지\\s?참고','첨부\\s?이미지\\s?참고','이미지\\s?참조','요청사항\\s?참조','명판\\s?참조','물류이용불가 품목',\n",
    "        '일반화물택배발송','주문수입품목으로 교환\\s?반품\\s?불가','주문제작품으로 교환\\s?반품\\s?불가','교환 및 반품\\s?불가',\n",
    "        '규격\\s?참조','첨부\\s?참조','규격\\s?참고','도면\\s?참조','사양서\\s?참조','주문시\\s?사이즈\\s?기재','추가발주불가',\n",
    "        '재고\\s?문의\\s?주세요','주문전\\s?재고\\s?확인\\s?바랍니다','첨부파일 참조','참조s?제작s?할s?것','교환\\s?반품\\s?불가',\n",
    "        '도면rev \\d+참조','도묜참조','구매\\s?시방서참조','구매시방참조','사진s?참고','사양서s?참고','사영서s?참고',\n",
    "        '도면\\s?참고','사양\\s?참고','상세정보 첨부참고','상세정보\\s?참고','첨부 참고'\n",
    "    ]\n",
    "    text = re.sub(r'|'.join(common_patterns), \"\", text)\n",
    "    \n",
    "    # 재고 관련 문구 제거\n",
    "    inventory_patterns = [\n",
    "        r\"재고 없을\\s?시 \\d+일\\s?소요\", r\"재고 미보유시 \\d+일\\s?소요\", r'재고\\s?소진\\s?시 납기 \\d+일',\n",
    "        r'재고 소진\\s?시 공급\\s?불가', r'재고 소진\\s?시 납품\\s?불가', r'재고 소진\\s?시 공급\\s?불가\\s?상품',\n",
    "        r'재고 소진\\s?시 \\d+일 소요', r'국내 재고 소진\\s?시 납기 약\\s?\\d+개월 소요',\n",
    "        r'재고 소진\\s?시 표준납기\\s?\\d+일 소요', r'재고 소진\\s?시 최소주문수량 적용상품',\n",
    "        r'재고 없을\\s?때 \\d+일\\s?소요', r'재고 없을\\s?시 표준납기 \\d+일\\s?소요',\n",
    "        r'재고 없을\\s?시 제작\\s?납기 \\d+일\\s?소요', r'수입품목으로 재고 없을\\s?시 납기 \\d+\\s?\\d+일\\s?소요',\n",
    "        r'재고 미보유\\s?시 \\d+일 이상 소요', r'재고 미보유\\s?시 납기\\s?\\d+일',\n",
    "        r'재고\\s?소진\\s?시 발주\\s?취소 가능성', r'재고 보유\\s?시 \\d+일 소요',\n",
    "        r'재고s?소진 후 구매s?불가', r'재고 보유\\s?시 \\d+일\\s?이내',\n",
    "        r'재고 미보유\\s?시 표준납기 \\d+일\\s?소요'\n",
    "    ]\n",
    "    text = re.sub(r'|'.join(inventory_patterns), \"\", text)\n",
    "    \n",
    "    # 추가적 문구 제거\n",
    "    remove_terms = ['인쇄없음', '시중품', '주식회사', '유한회사']\n",
    "    text = re.sub(r'|'.join(remove_terms), \"\", text)\n",
    "\n",
    "    # 텍스트 치환\n",
    "    text = text.replace('nan', ' ')\n",
    "    text = text.replace('| ', ' ').replace(' |', ' ').replace('||', ' ')\n",
    "    text = re.sub(r'[xX×*＊]', 'x', text)  # 곱하기 기호 통일\n",
    "    text = text.replace('ℓ', 'l')  # 리터 기호 통일\n",
    "\n",
    "    # 한자 제거\n",
    "    text = re.sub(r'[\\u4E00-\\u9FFF]', '', text)\n",
    "\n",
    "    # 중복된 단어 제거\n",
    "    text = remove_dup(text)\n",
    "    \n",
    "    # 여러 공백을 하나의 공백으로 변환\n",
    "    text = re.sub(r'\\s+', ' ', text).strip()\n",
    "\n",
    "    return text"
   ]
  },
  {
   "cell_type": "code",
   "execution_count": 8,
   "metadata": {},
   "outputs": [],
   "source": [
    "data['description'] = data['description'].map(preprocessing)\n"
   ]
  },
  {
   "cell_type": "code",
   "execution_count": 9,
   "metadata": {},
   "outputs": [
    {
     "data": {
      "text/html": [
       "<div>\n",
       "<style scoped>\n",
       "    .dataframe tbody tr th:only-of-type {\n",
       "        vertical-align: middle;\n",
       "    }\n",
       "\n",
       "    .dataframe tbody tr th {\n",
       "        vertical-align: top;\n",
       "    }\n",
       "\n",
       "    .dataframe thead th {\n",
       "        text-align: right;\n",
       "    }\n",
       "</style>\n",
       "<table border=\"1\" class=\"dataframe\">\n",
       "  <thead>\n",
       "    <tr style=\"text-align: right;\">\n",
       "      <th></th>\n",
       "      <th>label</th>\n",
       "      <th>description</th>\n",
       "    </tr>\n",
       "  </thead>\n",
       "  <tbody>\n",
       "    <tr>\n",
       "      <th>0</th>\n",
       "      <td>1000000800</td>\n",
       "      <td>파리채</td>\n",
       "    </tr>\n",
       "    <tr>\n",
       "      <th>1</th>\n",
       "      <td>1000002100</td>\n",
       "      <td>살충제</td>\n",
       "    </tr>\n",
       "  </tbody>\n",
       "</table>\n",
       "</div>"
      ],
      "text/plain": [
       "        label description\n",
       "0  1000000800         파리채\n",
       "1  1000002100         살충제"
      ]
     },
     "execution_count": 9,
     "metadata": {},
     "output_type": "execute_result"
    }
   ],
   "source": [
    "data.head(2)"
   ]
  },
  {
   "cell_type": "code",
   "execution_count": 10,
   "metadata": {},
   "outputs": [],
   "source": [
    "# data.to_csv('Data/IMK_master.txt', sep='\\t', index=False)\n",
    "data.to_csv('Data/IMK_한글품명.txt', sep='\\t', index=False)"
   ]
  },
  {
   "cell_type": "code",
   "execution_count": 11,
   "metadata": {},
   "outputs": [],
   "source": [
    "strings = data['description'].astype(str)"
   ]
  },
  {
   "cell_type": "code",
   "execution_count": 12,
   "metadata": {},
   "outputs": [
    {
     "name": "stdout",
     "output_type": "stream",
     "text": [
      "[3, 3, 3, 5, 5, 4, 3, 6, 6, 3]\n"
     ]
    }
   ],
   "source": [
    "lengths = [len(string) for string in strings]\n",
    "print(lengths[:10])"
   ]
  },
  {
   "cell_type": "code",
   "execution_count": 13,
   "metadata": {},
   "outputs": [
    {
     "data": {
      "image/png": "[encoded data removed]",
      "text/plain": [
       "<Figure size 1000x600 with 1 Axes>"
      ]
     },
     "metadata": {},
     "output_type": "display_data"
    }
   ],
   "source": [
    "import matplotlib.pyplot as plt\n",
    "\n",
    "plt.figure(figsize=(10, 6))\n",
    "plt.hist(lengths, bins=75, edgecolor='black')\n",
    "# plt.title(\"Distribution of String Lengths in IMK master\")\n",
    "# plt.xlabel(\"String Length\")\n",
    "# plt.ylabel(\"Frequency\")\n",
    "plt.grid(True)\n",
    "plt.tight_layout()\n",
    "plt.show()"
   ]
  },
  {
   "cell_type": "code",
   "execution_count": 14,
   "metadata": {},
   "outputs": [
    {
     "data": {
      "text/plain": [
       "np.float64(9.944282097928435)"
      ]
     },
     "execution_count": 14,
     "metadata": {},
     "output_type": "execute_result"
    }
   ],
   "source": [
    "np.mean(lengths)"
   ]
  },
  {
   "cell_type": "markdown",
   "metadata": {},
   "source": [
    "# Build Index\n"
   ]
  },
  {
   "cell_type": "markdown",
   "metadata": {},
   "source": [
    "### tree_num=2\n"
   ]
  },
  {
   "cell_type": "code",
   "execution_count": 2,
   "metadata": {},
   "outputs": [],
   "source": [
    "data = pd.read_csv('Data/IMK_한글품명.txt', delimiter='\\t', dtype=str)\n",
    "# data = pd.read_csv('Data/IMK_master.txt', delimiter='\\t', dtype=str)\n",
    "# data = pd.read_csv('Data/Random_strings_0.1K.txt', header=None)\n",
    "data['label'] = data['label'].astype(str)\n",
    "data['description'] = data['description'].astype(str)\n",
    "data = data[:1_000_000]"
   ]
  },
  {
   "cell_type": "code",
   "execution_count": 3,
   "metadata": {},
   "outputs": [
    {
     "data": {
      "text/html": [
       "<div>\n",
       "<style scoped>\n",
       "    .dataframe tbody tr th:only-of-type {\n",
       "        vertical-align: middle;\n",
       "    }\n",
       "\n",
       "    .dataframe tbody tr th {\n",
       "        vertical-align: top;\n",
       "    }\n",
       "\n",
       "    .dataframe thead th {\n",
       "        text-align: right;\n",
       "    }\n",
       "</style>\n",
       "<table border=\"1\" class=\"dataframe\">\n",
       "  <thead>\n",
       "    <tr style=\"text-align: right;\">\n",
       "      <th></th>\n",
       "      <th>label</th>\n",
       "      <th>description</th>\n",
       "    </tr>\n",
       "  </thead>\n",
       "  <tbody>\n",
       "    <tr>\n",
       "      <th>0</th>\n",
       "      <td>1000000800</td>\n",
       "      <td>파리채</td>\n",
       "    </tr>\n",
       "    <tr>\n",
       "      <th>1</th>\n",
       "      <td>1000002100</td>\n",
       "      <td>살충제</td>\n",
       "    </tr>\n",
       "  </tbody>\n",
       "</table>\n",
       "</div>"
      ],
      "text/plain": [
       "        label description\n",
       "0  1000000800         파리채\n",
       "1  1000002100         살충제"
      ]
     },
     "execution_count": 3,
     "metadata": {},
     "output_type": "execute_result"
    }
   ],
   "source": [
    "data.head(2)"
   ]
  },
  {
   "cell_type": "code",
   "execution_count": 4,
   "metadata": {},
   "outputs": [
    {
     "name": "stdout",
     "output_type": "stream",
     "text": [
      "1000000\n"
     ]
    }
   ],
   "source": [
    "print(len(data))"
   ]
  },
  {
   "cell_type": "code",
   "execution_count": 5,
   "metadata": {},
   "outputs": [
    {
     "name": "stdout",
     "output_type": "stream",
     "text": [
      "CPU times: total: 0 ns\n",
      "Wall time: 0 ns\n"
     ]
    }
   ],
   "source": [
    "%%time\n",
    "\n",
    "# Create and configure index\n",
    "leven_index = LevenshteinIndex(num_trees=2, n_jobs=20)"
   ]
  },
  {
   "cell_type": "code",
   "execution_count": 6,
   "metadata": {},
   "outputs": [
    {
     "name": "stdout",
     "output_type": "stream",
     "text": [
      "CPU times: total: 219 ms\n",
      "Wall time: 212 ms\n"
     ]
    }
   ],
   "source": [
    "%%time\n",
    "\n",
    "# Add strings in bulk\n",
    "leven_index.add_items_bulk(data['description'])\n",
    "\n",
    "# v\n",
    "# CPU times: total: 219 ms\n",
    "# Wall time: 214 ms"
   ]
  },
  {
   "cell_type": "code",
   "execution_count": null,
   "metadata": {},
   "outputs": [
    {
     "name": "stdout",
     "output_type": "stream",
     "text": [
      "CPU times: total: 9min 31s\n",
      "Wall time: 9min 36s\n"
     ]
    }
   ],
   "source": [
    "%%time\n",
    "\n",
    "# Build index\n",
    "leven_index.build()\n",
    "\n",
    "# CPU times: total: 9min 31s\n",
    "# Wall time: 9min 36s"
   ]
  },
  {
   "cell_type": "code",
   "execution_count": null,
   "metadata": {},
   "outputs": [],
   "source": [
    "### old code 시간\n",
    "# v3\n",
    "# CPU times: total: 39min 47s\n",
    "# Wall time: 40min\n",
    "\n",
    "# v4\n",
    "# 101m 까지 진행, 멈춤\n",
    "\n",
    "# v5 \n",
    "# 57m 까지 진행, 멈춤\n",
    "\n",
    "# v6\n",
    "# CPU times: total: 39min 21s\n",
    "# Wall time: 39min 31s\n",
    "\n",
    "# v7\n",
    "# CPU times: total: 16h 33min 14s\n",
    "# Wall time: 8h 13min 14s"
   ]
  },
  {
   "cell_type": "code",
   "execution_count": null,
   "metadata": {},
   "outputs": [
    {
     "name": "stdout",
     "output_type": "stream",
     "text": [
      "CPU times: total: 1.34 s\n",
      "Wall time: 1.36 s\n"
     ]
    }
   ],
   "source": [
    "%%time\n",
    "\n",
    "# save\n",
    "leven_index.save(\"Models/LevenshteinIndex_IMK_한글품명_2tree.npz\")\n",
    "\n",
    "# for num_trees=2, len(data)~2.5M\n",
    "\n",
    "# v3\n",
    "# CPU times: total: 7.39 s\n",
    "# Wall time: 7.41 s\n",
    "\n",
    "# v4\n",
    "\n",
    "# v6\n",
    "# CPU times: total: 7.39 s\n",
    "# Wall time: 7.45 s\n",
    "\n",
    "# v7\n",
    "# CPU times: total: 11.1 s\n",
    "# Wall time: 11.1 s\n",
    "\n",
    "# CPU times: total: 1.34 s\n",
    "# Wall time: 1.36 s"
   ]
  },
  {
   "cell_type": "code",
   "execution_count": 9,
   "metadata": {},
   "outputs": [
    {
     "name": "stdout",
     "output_type": "stream",
     "text": [
      "Query: 에프킬라\n",
      "Top 5 nearest neighbors:\n",
      "CPU times: total: 0 ns\n",
      "Wall time: 997 μs\n"
     ]
    }
   ],
   "source": [
    "%%time\n",
    "\n",
    "# Query\n",
    "query = data['description'][5]\n",
    "neighbors = leven_index.get_nns_by_string(query, topk=5)\n",
    "\n",
    "print(\"Query:\", query)\n",
    "print(\"Top 5 nearest neighbors:\")\n",
    "for idx in neighbors:\n",
    "    if idx is not None:\n",
    "        print(f\"{idx}, {leven_index.get_strings()[idx]}\")\n",
    "\n",
    "# for num_trees=2, len(data)~2.5M\n",
    "# 2.5M 데이터에서 top5 유사품목 1번 검색하는데 걸리는 시간\n",
    "\n",
    "# v3\n",
    "# CPU times: total: 0 ns\n",
    "# Wall time: 1 ms\n",
    "\n",
    "# v4\n",
    "\n",
    "# v6\n",
    "# Query: F Killer 에프킬라 500ml 킨 에스씨존슨코리아\n",
    "# Top 5 nearest neighbors:\n",
    "# 5, F Killer 에프킬라 500ml 킨 에스씨존슨코리아\n",
    "# CPU times: total: 0 ns\n",
    "# Wall time: 0 ns\n",
    "\n",
    "# v7 \n",
    "# Query: F Killer 에프킬라 500ml 킨 에스씨존슨코리아\n",
    "# Top 5 nearest neighbors:\n",
    "# 5, F Killer 에프킬라 500ml 킨 에스씨존슨코리아\n",
    "# CPU times: total: 15.6 ms\n",
    "# Wall time: 15.7 ms"
   ]
  },
  {
   "cell_type": "markdown",
   "metadata": {},
   "source": [
    "### tree_num=10\n"
   ]
  },
  {
   "cell_type": "code",
   "execution_count": 11,
   "metadata": {},
   "outputs": [],
   "source": [
    "data = pd.read_csv('Data/IMK_한글품명.txt', delimiter='\\t', dtype=str)\n",
    "data['label'] = data['label'].astype(str)\n",
    "data['description'] = data['description'].astype(str)"
   ]
  },
  {
   "cell_type": "code",
   "execution_count": 12,
   "metadata": {},
   "outputs": [
    {
     "data": {
      "text/html": [
       "<div>\n",
       "<style scoped>\n",
       "    .dataframe tbody tr th:only-of-type {\n",
       "        vertical-align: middle;\n",
       "    }\n",
       "\n",
       "    .dataframe tbody tr th {\n",
       "        vertical-align: top;\n",
       "    }\n",
       "\n",
       "    .dataframe thead th {\n",
       "        text-align: right;\n",
       "    }\n",
       "</style>\n",
       "<table border=\"1\" class=\"dataframe\">\n",
       "  <thead>\n",
       "    <tr style=\"text-align: right;\">\n",
       "      <th></th>\n",
       "      <th>label</th>\n",
       "      <th>description</th>\n",
       "    </tr>\n",
       "  </thead>\n",
       "  <tbody>\n",
       "    <tr>\n",
       "      <th>0</th>\n",
       "      <td>1000000800</td>\n",
       "      <td>파리채</td>\n",
       "    </tr>\n",
       "    <tr>\n",
       "      <th>1</th>\n",
       "      <td>1000002100</td>\n",
       "      <td>살충제</td>\n",
       "    </tr>\n",
       "  </tbody>\n",
       "</table>\n",
       "</div>"
      ],
      "text/plain": [
       "        label description\n",
       "0  1000000800         파리채\n",
       "1  1000002100         살충제"
      ]
     },
     "execution_count": 12,
     "metadata": {},
     "output_type": "execute_result"
    }
   ],
   "source": [
    "data.head(2)"
   ]
  },
  {
   "cell_type": "code",
   "execution_count": 13,
   "metadata": {},
   "outputs": [
    {
     "name": "stdout",
     "output_type": "stream",
     "text": [
      "2538466\n"
     ]
    }
   ],
   "source": [
    "print(len(data))"
   ]
  },
  {
   "cell_type": "code",
   "execution_count": 14,
   "metadata": {},
   "outputs": [
    {
     "name": "stdout",
     "output_type": "stream",
     "text": [
      "CPU times: total: 0 ns\n",
      "Wall time: 0 ns\n"
     ]
    }
   ],
   "source": [
    "%%time\n",
    "\n",
    "# Create and configure index\n",
    "leven_index = LevenshteinIndex(num_trees=10, n_jobs=20)\n",
    "\n",
    "\n",
    "# for num_trees=10, len(data)~2.5M\n",
    "\n",
    "# v3\n",
    "# CPU times: total: 0 ns\n",
    "# Wall time: 2.99 ms\n",
    "\n",
    "# v4\n",
    "\n",
    "# v6\n",
    "# CPU times: total: 469 ms\n",
    "# Wall time: 490 ms"
   ]
  },
  {
   "cell_type": "code",
   "execution_count": 15,
   "metadata": {},
   "outputs": [
    {
     "name": "stdout",
     "output_type": "stream",
     "text": [
      "CPU times: total: 562 ms\n",
      "Wall time: 536 ms\n"
     ]
    }
   ],
   "source": [
    "%%time\n",
    "\n",
    "# Add strings in bulk\n",
    "leven_index.add_items_bulk(data['description'])\n",
    "\n",
    "# for num_trees=10, len(data)~2.5M\n",
    "\n",
    "# v3\n",
    "# CPU times: total: 4.39 s\n",
    "# Wall time: 4.42 s\n",
    "\n",
    "# v4\n",
    "\n",
    "# v6\n",
    "# CPU times: total: 1.14 s\n",
    "# Wall time: 1.15 s"
   ]
  },
  {
   "cell_type": "code",
   "execution_count": null,
   "metadata": {},
   "outputs": [],
   "source": [
    "%%time\n",
    "\n",
    "# Build index\n",
    "leven_index.build()\n",
    "\n",
    "# for num_trees=10, len(data)~2.5M\n",
    "\n",
    "# v3\n",
    "# CPU times: total: 3h 13min 4s\n",
    "# Wall time: 3h 13min 19s\n",
    "\n",
    "# v4\n",
    "\n",
    "# v6\n",
    "# CPU times: total: 3h 18min 12s\n",
    "# Wall time: 3h 17min 16s"
   ]
  },
  {
   "cell_type": "code",
   "execution_count": null,
   "metadata": {},
   "outputs": [
    {
     "name": "stdout",
     "output_type": "stream",
     "text": [
      "CPU times: total: 36.5 s\n",
      "Wall time: 36.5 s\n"
     ]
    }
   ],
   "source": [
    "%%time\n",
    "\n",
    "# save\n",
    "leven_index.save(\"Models/LevenshteinIndex_IMK_한글품명_10tree.npz\")\n",
    "\n",
    "# for num_trees=10, len(data)~2.5M\n",
    "\n",
    "# v3\n",
    "# CPU times: total: 36.6 s\n",
    "# Wall time: 36.7 s\n",
    "\n",
    "# v4\n",
    "\n",
    "# v6\n",
    "# CPU times: total: 36.5 s\n",
    "# Wall time: 36.5 s\n"
   ]
  },
  {
   "cell_type": "code",
   "execution_count": null,
   "metadata": {},
   "outputs": [],
   "source": [
    "query_str = '에프킬라 500ml 킨 에스씨존슨코리아'"
   ]
  },
  {
   "cell_type": "code",
   "execution_count": null,
   "metadata": {},
   "outputs": [],
   "source": [
    "all_matches = []\n",
    "for tree in leven_index.trees:\n",
    "    match_idx = leven_index._query(tree, query_str)\n",
    "    all_matches.append(match_idx)"
   ]
  },
  {
   "cell_type": "code",
   "execution_count": null,
   "metadata": {},
   "outputs": [
    {
     "data": {
      "text/plain": [
       "[np.int32(1395689),\n",
       " np.int32(632816),\n",
       " np.int32(2446750),\n",
       " np.int32(292474),\n",
       " np.int32(405560),\n",
       " np.int32(392650),\n",
       " np.int32(966375),\n",
       " np.int32(595007),\n",
       " np.int32(1781985),\n",
       " np.int32(356551)]"
      ]
     },
     "execution_count": 22,
     "metadata": {},
     "output_type": "execute_result"
    }
   ],
   "source": [
    "all_matches"
   ]
  },
  {
   "cell_type": "code",
   "execution_count": null,
   "metadata": {},
   "outputs": [
    {
     "name": "stdout",
     "output_type": "stream",
     "text": [
      "Query: 에프킬라 500ml 킨 에스씨존슨코리아\n",
      "Top 5 nearest neighbors:\n",
      "1781985, 안전닛블 PH500x 3 4 STEEL, dist: 17\n",
      "966375, 리데나 50 x 70 10 NBR, dist: 17\n",
      "632816, Hand Cream 핸드크림 존슨앤존슨, dist: 17\n",
      "292474, 와이어 65mm x 18M 시브용, dist: 17\n",
      "595007, 유니온패킹 비석면 40A 명인코리아, dist: 17\n",
      "CPU times: total: 0 ns\n",
      "Wall time: 1e+03 μs\n"
     ]
    }
   ],
   "source": [
    "%%time\n",
    "\n",
    "# Query\n",
    "# query = data['description'][5]\n",
    "query = '에프킬라 500ml 킨 에스씨존슨코리아'\n",
    "indices, distances = leven_index.get_nns_by_string(query, topk=5, include_distances=True)\n",
    "\n",
    "print(\"Query:\", query)\n",
    "print(\"Top 5 nearest neighbors:\")\n",
    "for idx, dist in zip(indices, distances):\n",
    "    if idx is not None:\n",
    "        print(f\"{idx}, {leven_index.get_strings()[idx]}, dist: {dist}\")\n",
    "\n",
    "# for num_trees=10, len(data)~2.5M\n",
    "# 2.5M 데이터에서 top5 유사품목 1번 검색하는데 걸리는 시간\n",
    "\n",
    "# v3\n",
    "# Query: 에프킬라 500ml 킨 에스씨존슨코리아\n",
    "# Top 5 nearest neighbors:\n",
    "# 1914772, 8T x 500mm 300mm 제작품, dist: 15\n",
    "# 1209213, 리벳 못 4.0mm x 11, dist: 16\n",
    "# 386400, 삼성T 5호 고무호스 해수펌프용, dist: 17\n",
    "# 1812221, 엠프 PA 1500TC 최대출력 200W, dist: 17\n",
    "# 754793, 에어원형 흡입샌더 UD 1638 UDT, dist: 18\n",
    "# CPU times: total: 0 ns\n",
    "# Wall time: 2 ms\n",
    "\n",
    "# v4\n",
    "\n",
    "# v6\n",
    "# Query: 에프킬라 500ml 킨 에스씨존슨코리아\n",
    "# Top 5 nearest neighbors:\n",
    "# 1781985, 안전닛블 PH500x 3 4 STEEL, dist: 17\n",
    "# 966375, 리데나 50 x 70 10 NBR, dist: 17\n",
    "# 632816, Hand Cream 핸드크림 존슨앤존슨, dist: 17\n",
    "# 292474, 와이어 65mm x 18M 시브용, dist: 17\n",
    "# 595007, 유니온패킹 비석면 40A 명인코리아, dist: 17\n",
    "# CPU times: total: 0 ns\n",
    "# Wall time: 1e+03 μs"
   ]
  },
  {
   "cell_type": "markdown",
   "metadata": {},
   "source": [
    "### tree_num = 100\n"
   ]
  },
  {
   "cell_type": "code",
   "execution_count": null,
   "metadata": {},
   "outputs": [],
   "source": [
    "data = pd.read_csv('Data/IMK_한글품명.txt', delimiter='\\t', dtype=str)\n",
    "data['label'] = data['label'].astype(str)\n",
    "data['description'] = data['description'].astype(str)"
   ]
  },
  {
   "cell_type": "code",
   "execution_count": null,
   "metadata": {},
   "outputs": [
    {
     "data": {
      "text/html": [
       "<div>\n",
       "<style scoped>\n",
       "    .dataframe tbody tr th:only-of-type {\n",
       "        vertical-align: middle;\n",
       "    }\n",
       "\n",
       "    .dataframe tbody tr th {\n",
       "        vertical-align: top;\n",
       "    }\n",
       "\n",
       "    .dataframe thead th {\n",
       "        text-align: right;\n",
       "    }\n",
       "</style>\n",
       "<table border=\"1\" class=\"dataframe\">\n",
       "  <thead>\n",
       "    <tr style=\"text-align: right;\">\n",
       "      <th></th>\n",
       "      <th>label</th>\n",
       "      <th>description</th>\n",
       "    </tr>\n",
       "  </thead>\n",
       "  <tbody>\n",
       "    <tr>\n",
       "      <th>0</th>\n",
       "      <td>1000000800</td>\n",
       "      <td>Fly Swatter 파리채 L520mm</td>\n",
       "    </tr>\n",
       "    <tr>\n",
       "      <th>1</th>\n",
       "      <td>1000002100</td>\n",
       "      <td>Insecticide 살충제 500ml 수성에어졸 무향 파리 모기등의살충제 안전기준...</td>\n",
       "    </tr>\n",
       "  </tbody>\n",
       "</table>\n",
       "</div>"
      ],
      "text/plain": [
       "        label                                        description\n",
       "0  1000000800                             Fly Swatter 파리채 L520mm\n",
       "1  1000002100  Insecticide 살충제 500ml 수성에어졸 무향 파리 모기등의살충제 안전기준..."
      ]
     },
     "execution_count": 4,
     "metadata": {},
     "output_type": "execute_result"
    }
   ],
   "source": [
    "data.head(2)"
   ]
  },
  {
   "cell_type": "code",
   "execution_count": null,
   "metadata": {},
   "outputs": [
    {
     "name": "stdout",
     "output_type": "stream",
     "text": [
      "2538466\n"
     ]
    }
   ],
   "source": [
    "print(len(data))"
   ]
  },
  {
   "cell_type": "code",
   "execution_count": null,
   "metadata": {},
   "outputs": [
    {
     "name": "stdout",
     "output_type": "stream",
     "text": [
      "CPU times: total: 0 ns\n",
      "Wall time: 0 ns\n"
     ]
    }
   ],
   "source": [
    "%%time\n",
    "\n",
    "# Create index \n",
    "leven_index = LevenshteinIndex(num_trees=100, n_jobs=20)\n",
    "\n",
    "\n",
    "# for num_trees=100, len(data)~2.5M\n",
    "\n",
    "# v3\n",
    "# CPU times: total: 500 ms\n",
    "# Wall time: 505 ms\n",
    "\n",
    "# v4"
   ]
  },
  {
   "cell_type": "code",
   "execution_count": null,
   "metadata": {},
   "outputs": [
    {
     "name": "stdout",
     "output_type": "stream",
     "text": [
      "CPU times: total: 1.16 s\n",
      "Wall time: 1.16 s\n"
     ]
    }
   ],
   "source": [
    "%%time\n",
    "\n",
    "# add data\n",
    "leven_index.add_items_bulk(data['description'])\n",
    "\n",
    "# for num_trees=100, len(data)~2.5M\n",
    "\n",
    "# v3\n",
    "# CPU times: total: 1.2 s\n",
    "# Wall time: 1.17 s\n",
    "\n",
    "# v4"
   ]
  },
  {
   "cell_type": "code",
   "execution_count": null,
   "metadata": {},
   "outputs": [
    {
     "name": "stdout",
     "output_type": "stream",
     "text": [
      "CPU times: total: 1d 9h 5min 51s\n",
      "Wall time: 1d 8h 57min 3s\n"
     ]
    }
   ],
   "source": [
    "%%time\n",
    "\n",
    "# build index\n",
    "leven_index.build()\n",
    "\n",
    "# for num_trees=100, len(data)~2.5M\n",
    "# v3\n",
    "\n",
    "# v4\n",
    "\n",
    "# v5\n",
    "\n",
    "# v6\n",
    "# CPU times: total: 1d 9h 5min 51s\n",
    "# Wall time: 1d 8h 57min 3s\n",
    "\n",
    "# v7\n"
   ]
  },
  {
   "cell_type": "code",
   "execution_count": null,
   "metadata": {},
   "outputs": [
    {
     "name": "stdout",
     "output_type": "stream",
     "text": [
      "CPU times: total: 6min 6s\n",
      "Wall time: 6min 6s\n"
     ]
    }
   ],
   "source": [
    "%%time\n",
    "\n",
    "# save\n",
    "leven_index.save(\"Models/LevenshteinIndex_IMK_한글품명_100tree.npz\")\n",
    "\n",
    "# for num_trees=100, len(data)~2.5M\n",
    "\n",
    "# v3\n",
    "\n",
    "# v4\n",
    "\n",
    "# v5\n",
    "\n",
    "# v6\n",
    "# CPU times: total: 6min 6s\n",
    "# Wall time: 6min 6s"
   ]
  },
  {
   "cell_type": "code",
   "execution_count": null,
   "metadata": {},
   "outputs": [
    {
     "name": "stdout",
     "output_type": "stream",
     "text": [
      "Query: 에프킬라 500ml 킨 에스씨존슨코리아\n",
      "Top 5 nearest neighbors:\n",
      "703003, 에어니플 300S 3 8 수놈, dist: 15\n",
      "719043, 에어건 600L 돼지꼬리, dist: 15\n",
      "305947, 갭스펀지 100mm x 80mm 2m, dist: 15\n",
      "2074991, LCDO 100 소방호스건조기 켐코리아, dist: 15\n",
      "1255974, 유리세정제 600ml 원폴리머 파워글라스, dist: 16\n",
      "CPU times: total: 15.6 ms\n",
      "Wall time: 12 ms\n"
     ]
    }
   ],
   "source": [
    "%%time\n",
    "\n",
    "# Query\n",
    "# query = data['description'][5]\n",
    "query = '에프킬라 500ml 킨 에스씨존슨코리아'\n",
    "indices, distances = leven_index.get_nns_by_string(query, topk=5, include_distances=True)\n",
    "\n",
    "print(\"Query:\", query)\n",
    "print(\"Top 5 nearest neighbors:\")\n",
    "for idx, dist in zip(indices, distances):\n",
    "    if idx is not None:\n",
    "        print(f\"{idx}, {leven_index.get_strings()[idx]}, dist: {dist}\")\n",
    "\n",
    "# for num_trees=100, len(data)~2.5M\n",
    "\n",
    "# v3\n",
    "\n",
    "# v4\n",
    "\n",
    "# v6\n",
    "# Query: 에프킬라 500ml 킨 에스씨존슨코리아\n",
    "# Top 5 nearest neighbors:\n",
    "# 703003, 에어니플 300S 3 8 수놈, dist: 15\n",
    "# 719043, 에어건 600L 돼지꼬리, dist: 15\n",
    "# 305947, 갭스펀지 100mm x 80mm 2m, dist: 15\n",
    "# 2074991, LCDO 100 소방호스건조기 켐코리아, dist: 15\n",
    "# 1255974, 유리세정제 600ml 원폴리머 파워글라스, dist: 16\n",
    "# CPU times: total: 15.6 ms\n",
    "# Wall time: 12 ms"
   ]
  },
  {
   "cell_type": "code",
   "execution_count": null,
   "metadata": {},
   "outputs": [],
   "source": [
    "leven_index=None"
   ]
  },
  {
   "cell_type": "markdown",
   "metadata": {},
   "source": [
    "# Search ALL\n"
   ]
  },
  {
   "cell_type": "code",
   "execution_count": null,
   "metadata": {},
   "outputs": [],
   "source": [
    "from rapidfuzz.distance import Levenshtein\n",
    "import unicodedata\n",
    "from rapidfuzz import fuzz\n",
    "\n",
    "# 이거 성능 뒤지게 구림\n",
    "# Korean Decomposition function using unicodedata\n",
    "def decompose_korean(text, *args, **kwargs):\n",
    "    decomposed = ''\n",
    "    for char in text:\n",
    "        if '가' <= char <= '힣':\n",
    "            # Korean syllables range: decompose\n",
    "            decomposed += unicodedata.normalize('NFD', char)\n",
    "        else:\n",
    "            decomposed += char\n",
    "    return decomposed"
   ]
  },
  {
   "cell_type": "code",
   "execution_count": null,
   "metadata": {},
   "outputs": [
    {
     "name": "stdout",
     "output_type": "stream",
     "text": [
      "Query: 에프킬라 500ml 킨 에스씨존슨코리아\n",
      "Top 5 nearest neighbors:\n",
      "5, F Killer 에프킬라 500ml 킨 에스씨존슨코리아\n",
      "761, F Killer 에프킬라 500ml 무향 에스씨존슨코리아\n",
      "478288, F Killer 에프킬라 500ml 안전기준 확인 에스씨존슨코리아\n",
      "1686149, F Killer 에프킬라 500ml 내추럴 후레쉬 오렌지향 에스씨존슨코리아\n",
      "2165105, 에프킬라 킨 500ml 제작품\n",
      "CPU times: total: 1.67 s\n",
      "Wall time: 1.67 s\n"
     ]
    }
   ],
   "source": [
    "%%time\n",
    "\n",
    "# query = data['description'][5]\n",
    "query = '에프킬라 500ml 킨 에스씨존슨코리아'\n",
    "\n",
    "# Add a new column with fuzz.ratio distances to the query string\n",
    "# data['sim'] = data['description'].map(lambda x: fuzz.ratio(query, x, processor=decompose_hangul))\n",
    "data['sim'] = data['description'].map(lambda x: fuzz.ratio(query, x))\n",
    "\n",
    "\n",
    "# Sort and take top 5\n",
    "top5 = data.sort_values('sim', ascending=False).head(5)  # Higher ratio = more similar\n",
    "\n",
    "# Display\n",
    "print(\"Query:\", query)\n",
    "print(\"Top 5 nearest neighbors:\")\n",
    "for _, row in top5.iterrows():\n",
    "    print(f\"{row.name}, {row['description']}\")\n",
    "# 2.5M 데이터에서 top5 유사품목 1번 검색하는데 걸리는 시간\n",
    "\n",
    "\n",
    "# Query: 에프킬라 500ml 킨 에스씨존슨코리아\n",
    "# Top 5 nearest neighbors:\n",
    "# 5, F Killer 에프킬라 500ml 킨 에스씨존슨코리아\n",
    "# 761, F Killer 에프킬라 500ml 무향 에스씨존슨코리아\n",
    "# 478288, F Killer 에프킬라 500ml 안전기준 확인 에스씨존슨코리아\n",
    "# 1686149, F Killer 에프킬라 500ml 내추럴 후레쉬 오렌지향 에스씨존슨코리아\n",
    "# 2165105, 에프킬라 킨 500ml 제작품\n",
    "\n",
    "# CPU times: total: 1.67 s\n",
    "# Wall time: 1.67 s"
   ]
  },
  {
   "cell_type": "code",
   "execution_count": null,
   "metadata": {},
   "outputs": [
    {
     "name": "stdout",
     "output_type": "stream",
     "text": [
      "Query: 에프킬라 500ml 킨 에스씨존슨코리아\n",
      "Top 5 nearest neighbors:\n",
      "5, F Killer 에프킬라 500ml 킨 에스씨존슨코리아\n",
      "761, F Killer 에프킬라 500ml 무향 에스씨존슨코리아\n",
      "1287549, 에프킬라 500mlx24 제작품\n",
      "2165105, 에프킬라 킨 500ml 제작품\n",
      "45248, 에어로젤 2roll 세트 에어로젤코리아\n",
      "CPU times: total: 1.62 s\n",
      "Wall time: 1.61 s\n"
     ]
    }
   ],
   "source": [
    "%%time\n",
    "\n",
    "# query = data['description'][5]\n",
    "query = '에프킬라 500ml 킨 에스씨존슨코리아'\n",
    "\n",
    "# Add a new column with fuzz.ratio distances to the query string\n",
    "data['sim'] = data['description'].astype(str).map(lambda x: Levenshtein.distance(query, x))\n",
    "\n",
    "\n",
    "# Sort and take top 5\n",
    "top5 = data.sort_values('sim', ascending=True).head(5)  # Small score = more similar\n",
    "\n",
    "# Display\n",
    "print(\"Query:\", query)\n",
    "print(\"Top 5 nearest neighbors:\")\n",
    "for _, row in top5.iterrows():\n",
    "    print(f\"{row.name}, {row['description']}\")\n",
    "\n",
    "# 2.5M 데이터에서 top5 유사품목 1번 검색하는데 걸리는 시간\n",
    "\n",
    "# Query: 에프킬라 500ml 킨 에스씨존슨코리아\n",
    "# Top 5 nearest neighbors:\n",
    "# 5, F Killer 에프킬라 500ml 킨 에스씨존슨코리아\n",
    "# 761, F Killer 에프킬라 500ml 무향 에스씨존슨코리아\n",
    "# 1287549, 에프킬라 500mlx24 제작품\n",
    "# 2165105, 에프킬라 킨 500ml 제작품\n",
    "# 45248, 에어로젤 2roll 세트 에어로젤코리아\n",
    "\n",
    "# CPU times: total: 1.62 s\n",
    "# Wall time: 1.61 s"
   ]
  },
  {
   "cell_type": "code",
   "execution_count": null,
   "metadata": {},
   "outputs": [
    {
     "name": "stdout",
     "output_type": "stream",
     "text": [
      "Query: 에프킬라 500ml 킨 에스씨존슨코리아\n",
      "Top 5 nearest neighbors:\n",
      "5, F Killer 에프킬라 500ml 킨 에스씨존슨코리아\n",
      "761, F Killer 에프킬라 500ml 무향 에스씨존슨코리아\n",
      "2165105, 에프킬라 킨 500ml 제작품\n",
      "1287549, 에프킬라 500mlx24 제작품\n",
      "976072, 아킬라 400ml\n",
      "CPU times: total: 1.64 s\n",
      "Wall time: 1.64 s\n"
     ]
    }
   ],
   "source": [
    "%%time\n",
    "\n",
    "# query = data['description'][5]\n",
    "query = '에프킬라 500ml 킨 에스씨존슨코리아'\n",
    "\n",
    "# Add a new column with fuzz.ratio distances to the query string\n",
    "data['sim'] = data['description'].astype(str).map(lambda x: Levenshtein.distance(query, x, weights=(1,1,10)))\n",
    "\n",
    "\n",
    "# Sort and take top 5\n",
    "top5 = data.sort_values('sim', ascending=True).head(5)  # Small score = more similar\n",
    "\n",
    "# Display\n",
    "print(\"Query:\", query)\n",
    "print(\"Top 5 nearest neighbors:\")\n",
    "for _, row in top5.iterrows():\n",
    "    print(f\"{row.name}, {row['description']}\")\n",
    "\n",
    "# 2.5M 데이터에서 top5 유사품목 1번 검색하는데 걸리는 시간\n",
    "\n",
    "# Query: 에프킬라 500ml 킨 에스씨존슨코리아\n",
    "# Top 5 nearest neighbors:\n",
    "# 5, F Killer 에프킬라 500ml 킨 에스씨존슨코리아\n",
    "# 761, F Killer 에프킬라 500ml 무향 에스씨존슨코리아\n",
    "# 2165105, 에프킬라 킨 500ml 제작품\n",
    "# 1287549, 에프킬라 500mlx24 제작품\n",
    "# 976072, 아킬라 400ml\n",
    "\n",
    "# CPU times: total: 1.64 s\n",
    "# Wall time: 1.64 s"
   ]
  },
  {
   "cell_type": "code",
   "execution_count": null,
   "metadata": {},
   "outputs": [],
   "source": [
    "\n"
   ]
  },
  {
   "cell_type": "code",
   "execution_count": null,
   "metadata": {},
   "outputs": [],
   "source": []
  }
 ],
 "metadata": {
  "kernelspec": {
   "display_name": "venv_ANN_Leven",
   "language": "python",
   "name": "python3"
  },
  "language_info": {
   "codemirror_mode": {
    "name": "ipython",
    "version": 3
   },
   "file_extension": ".py",
   "mimetype": "text/x-python",
   "name": "python",
   "nbconvert_exporter": "python",
   "pygments_lexer": "ipython3",
   "version": "3.12.9"
  }
 },
 "nbformat": 4,
 "nbformat_minor": 2
}
